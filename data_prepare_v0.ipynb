{
 "cells": [
  {
   "cell_type": "code",
   "execution_count": 58,
   "metadata": {},
   "outputs": [],
   "source": [
    "import pandas as pd\n",
    "import numpy as np\n",
    "import torch\n",
    "\n",
    "df = pd.read_feather('data/nq17-23_1min.feather')\n",
    "df.index = df.index - pd.Timedelta(minutes=1)\n",
    "#df = df[(df.index >= '2022-04-01') & (df.index < '2022-05-01')]\n"
   ]
  },
  {
   "cell_type": "code",
   "execution_count": 59,
   "metadata": {},
   "outputs": [
    {
     "data": {
      "text/plain": [
       "24.0"
      ]
     },
     "execution_count": 59,
     "metadata": {},
     "output_type": "execute_result"
    }
   ],
   "source": [
    "6/0.25//4*4"
   ]
  },
  {
   "cell_type": "code",
   "execution_count": 60,
   "metadata": {},
   "outputs": [],
   "source": [
    "tick_size = 0.25\n",
    "\n",
    "df['bottom_wick'] = (((df[['open', 'close']].min(axis=1)- df['low']) / tick_size).astype(int))\n",
    "df['top_wick'] = ((df['high'] - df[['open', 'close']].max(axis=1)) / tick_size).astype(int)\n",
    "df['body'] = ((df['close'] - df['open']).abs() / tick_size).astype(int)\n",
    "df['open_gap'] = ((df['open'] - df['close'].shift(1)) / tick_size).fillna(0).astype(int)\n",
    "\n",
    "df['1m_start'] = 0\n",
    "df['5m_start'] = np.where(df.index.minute % 5 == 0, 1, np.nan)\n",
    "df['15m_start'] = np.where(df.index.minute % 15 == 0,2, np.nan)\n",
    "df['1h_start'] = np.where(df.index.minute == 0, 3, np.nan)\n",
    "df['1d_start'] = np.where((df.index.hour == 0) & (df.index.minute == 0), 4, np.nan)\n",
    "\n",
    "df['lon_start'] = np.where((df.index.hour == 3) & (df.index.minute == 00), 5, np.nan)\n",
    "df['ny_start'] = np.where((df.index.hour == 9) & (df.index.minute == 30), 6, np.nan)\n",
    "df['session_start'] = np.where((df.index.hour == 18) & (df.index.minute == 00) & (df.index.day_of_week.isin([6,0,1,2,3])), 7, np.nan)\n",
    "df['week_start'] = np.where((df.index.hour == 18) & (df.index.minute == 00) & (df.index.day_of_week == 6), 8, np.nan)\n",
    "\n"
   ]
  },
  {
   "cell_type": "code",
   "execution_count": 61,
   "metadata": {},
   "outputs": [],
   "source": [
    "bottom_wick_list = sorted(df['bottom_wick'].unique().tolist())\n",
    "body_list = sorted(df['body'].unique().tolist())\n",
    "top_wick_list = sorted(df['top_wick'].unique().tolist())\n",
    "open_gap_list = sorted(df['open_gap'].unique().tolist())\n",
    "\n",
    "#convert value to index\n",
    "num_of_start_features = 9\n",
    "bottom_wick_to_index = {v: i + num_of_start_features for i, v in enumerate(bottom_wick_list)}\n",
    "body_to_index = {v: i + num_of_start_features + len(bottom_wick_list) for i, v in enumerate(body_list)}\n",
    "top_wick_to_index = {v: i + num_of_start_features + len(bottom_wick_list) + len(body_list) for i, v in enumerate(top_wick_list)}\n",
    "open_gap_to_index = {v: i + num_of_start_features + len(bottom_wick_list) + len(body_list) + len(top_wick_list) for i, v in enumerate(open_gap_list)}\n",
    "\n",
    "#convert index to value\n",
    "index_to_bottom_wick = {i + num_of_start_features: v for i, v in enumerate(bottom_wick_list)}\n",
    "index_to_body = {i + num_of_start_features + len(bottom_wick_list): v for i, v in enumerate(body_list)}\n",
    "index_to_top_wick = {i + num_of_start_features + len(bottom_wick_list) + len(body_list): v for i, v in enumerate(top_wick_list)}\n",
    "index_to_open_gap = {i + num_of_start_features + len(bottom_wick_list) + len(body_list) + len(top_wick_list): v for i, v in enumerate(open_gap_list)}\n",
    "\n",
    "\n",
    "#apply mapping of value to index\n",
    "df['bottom_wick'] = df['bottom_wick'].map(bottom_wick_to_index)\n",
    "df['body'] = df['body'].map(body_to_index)\n",
    "df['top_wick'] = df['top_wick'].map(top_wick_to_index)\n",
    "df['open_gap'] = df['open_gap'].map(open_gap_to_index)\n",
    "\n",
    "#define wicks sequence order\n",
    "df['first_wick']  = np.where(df['close'] >= df['open'], df['bottom_wick'], df['top_wick'])\n",
    "df['last_wick']  = np.where(df['close'] >= df['open'], df['top_wick'], df['bottom_wick'])"
   ]
  },
  {
   "cell_type": "code",
   "execution_count": 65,
   "metadata": {},
   "outputs": [
    {
     "data": {
      "text/plain": [
       "(206, 586, 779, 1147)"
      ]
     },
     "execution_count": 65,
     "metadata": {},
     "output_type": "execute_result"
    }
   ],
   "source": [
    "max(bottom_wick_to_index.values()), max(body_to_index.values()), max(top_wick_to_index.values()), max(open_gap_to_index.values())"
   ]
  },
  {
   "cell_type": "code",
   "execution_count": 28,
   "metadata": {},
   "outputs": [],
   "source": [
    "def candle_restore(candles:(np.array,torch.Tensor), start_price:float, number_of_candles = None) -> pd.DataFrame:\n",
    "    #function receives a dataframe with columns ['first_wick', 'last_wick'] - respectivey columns 0 and 2 in the array) for wicks data and column 'body' (column 1 in the array) for body data \n",
    "    # and restores the candles starting from initial price. New open gap should be considered from column 3 in the array\n",
    "    #use index_to_bottom_wick, index_to_body, index_to_top_wick to convert index to value\n",
    "    if isinstance(candles, torch.Tensor):\n",
    "        candles = candles.numpy()\n",
    "    if number_of_candles is not None:\n",
    "        candles = candles[:number_of_candles]\n",
    "\n",
    "    restored_candles = []\n",
    "    for idx, candle in enumerate(candles):\n",
    "        restored_candle = {}\n",
    "        open = start_price if idx == 0 else restored_candles[idx-1]['close'] + index_to_open_gap[candle[3]] * tick_size\n",
    "        if candle[0] in index_to_bottom_wick:\n",
    "            low_wick = index_to_bottom_wick[candle[0]]\n",
    "            high_wick = index_to_top_wick[candle[2]]\n",
    "            body = index_to_body[candle[1]]\n",
    "            close = open + body * tick_size\n",
    "            low = open - low_wick * tick_size\n",
    "            high = close + high_wick * tick_size\n",
    "            restored_candle['open'] = open\n",
    "            restored_candle['high'] = high\n",
    "            restored_candle['low'] = low\n",
    "            restored_candle['close'] = close\n",
    "\n",
    "        elif candle[0] in index_to_top_wick:\n",
    "            high_wick = index_to_top_wick[candle[0]]\n",
    "            low_wick = index_to_bottom_wick[candle[2]]\n",
    "            body = index_to_body[candle[1]]\n",
    "            close = open - body * tick_size\n",
    "            low = close - low_wick * tick_size\n",
    "            high = open + high_wick * tick_size\n",
    "            restored_candle['open'] = open\n",
    "            restored_candle['high'] = high\n",
    "            restored_candle['low'] = low\n",
    "            restored_candle['close'] = close\n",
    "\n",
    "            \n",
    "        restored_candles.append(restored_candle)\n",
    "    return pd.DataFrame(restored_candles)\n",
    "\n",
    "#test of restore function\n",
    "\n",
    "restored_df = candle_restore(df[['first_wick', 'body', 'last_wick','open_gap']].values, 4876.75, 100)\n",
    "\n",
    "    "
   ]
  },
  {
   "cell_type": "code",
   "execution_count": 41,
   "metadata": {},
   "outputs": [
    {
     "ename": "KeyError",
     "evalue": "9.0",
     "output_type": "error",
     "traceback": [
      "\u001b[0;31m---------------------------------------------------------------------------\u001b[0m",
      "\u001b[0;31mKeyError\u001b[0m                                  Traceback (most recent call last)",
      "\u001b[1;32m/Users/anfedoro/Documents/Trading/nq_llm/data_prepare_v0.ipynb Cell 6\u001b[0m line \u001b[0;36m1\n\u001b[1;32m     <a href='vscode-notebook-cell:/Users/anfedoro/Documents/Trading/nq_llm/data_prepare_v0.ipynb#X14sZmlsZQ%3D%3D?line=14'>15</a>\u001b[0m \u001b[39mfor\u001b[39;00m i \u001b[39min\u001b[39;00m \u001b[39mrange\u001b[39m(\u001b[39mlen\u001b[39m(zero_index) \u001b[39m-\u001b[39m \u001b[39m1\u001b[39m):\n\u001b[1;32m     <a href='vscode-notebook-cell:/Users/anfedoro/Documents/Trading/nq_llm/data_prepare_v0.ipynb#X14sZmlsZQ%3D%3D?line=15'>16</a>\u001b[0m     samle_data[i] \u001b[39m=\u001b[39m sample[zero_index[i]\u001b[39m+\u001b[39m\u001b[39m1\u001b[39m:zero_index[i\u001b[39m+\u001b[39m\u001b[39m1\u001b[39m]][\u001b[39m-\u001b[39m\u001b[39m4\u001b[39m:]\n\u001b[0;32m---> <a href='vscode-notebook-cell:/Users/anfedoro/Documents/Trading/nq_llm/data_prepare_v0.ipynb#X14sZmlsZQ%3D%3D?line=17'>18</a>\u001b[0m restored_df \u001b[39m=\u001b[39m candle_restore(samle_data, \u001b[39m4876.75\u001b[39;49m)\n",
      "\u001b[1;32m/Users/anfedoro/Documents/Trading/nq_llm/data_prepare_v0.ipynb Cell 6\u001b[0m line \u001b[0;36m1\n\u001b[1;32m     <a href='vscode-notebook-cell:/Users/anfedoro/Documents/Trading/nq_llm/data_prepare_v0.ipynb#X14sZmlsZQ%3D%3D?line=13'>14</a>\u001b[0m \u001b[39mif\u001b[39;00m candle[\u001b[39m0\u001b[39m] \u001b[39min\u001b[39;00m index_to_bottom_wick:\n\u001b[1;32m     <a href='vscode-notebook-cell:/Users/anfedoro/Documents/Trading/nq_llm/data_prepare_v0.ipynb#X14sZmlsZQ%3D%3D?line=14'>15</a>\u001b[0m     low_wick \u001b[39m=\u001b[39m index_to_bottom_wick[candle[\u001b[39m0\u001b[39m]]\n\u001b[0;32m---> <a href='vscode-notebook-cell:/Users/anfedoro/Documents/Trading/nq_llm/data_prepare_v0.ipynb#X14sZmlsZQ%3D%3D?line=15'>16</a>\u001b[0m     high_wick \u001b[39m=\u001b[39m index_to_top_wick[candle[\u001b[39m2\u001b[39;49m]]\n\u001b[1;32m     <a href='vscode-notebook-cell:/Users/anfedoro/Documents/Trading/nq_llm/data_prepare_v0.ipynb#X14sZmlsZQ%3D%3D?line=16'>17</a>\u001b[0m     body \u001b[39m=\u001b[39m index_to_body[candle[\u001b[39m1\u001b[39m]]\n\u001b[1;32m     <a href='vscode-notebook-cell:/Users/anfedoro/Documents/Trading/nq_llm/data_prepare_v0.ipynb#X14sZmlsZQ%3D%3D?line=17'>18</a>\u001b[0m     close \u001b[39m=\u001b[39m \u001b[39mopen\u001b[39m \u001b[39m+\u001b[39m body \u001b[39m*\u001b[39m tick_size\n",
      "\u001b[0;31mKeyError\u001b[0m: 9.0"
     ]
    }
   ],
   "source": [
    "sample = torch.tensor([587, 225,   9, 974,   0, 589, 232,  17, 975,   0,  11, 229, 596, 976,\n",
    "           0,  10, 227, 587, 976,   0,   9, 222, 597, 975,   0,   1,  10, 209,\n",
    "         599, 974,   0, 588, 229,  14, 978,   0, 594, 209,  14, 975,   0, 590,\n",
    "         210,  10, 974,   0, 588, 221,  16, 979,   0,   1,   2, 587, 238,  12,\n",
    "         978,   0, 587, 220,  39, 976,   0, 591])\n",
    "sample = torch.tensor([  9, 212,   9, 975,   0,   9, 209,   9, 975,   0,   9, 212, 587, 975,\n",
    "           0,   9, 212, 587, 975,   0,   9, 212, 587, 975,   0,   1,   9, 212,\n",
    "         587, 975,   0,   9, 209,   9, 975,   0,   9, 209,   9, 975,   0,   9,\n",
    "         212,   9, 975,   0,   9, 209,   9, 975,   0,   1,   2,   9, 212,   9,\n",
    "         975,   0,   9, 215,  13, 975,   0,   9])\n",
    "\n",
    "zero_index = torch.where(sample == 0)[0]\n",
    "samle_data = torch.empty((len(zero_index) - 1, 4))\n",
    "\n",
    "for i in range(len(zero_index) - 1):\n",
    "    samle_data[i] = sample[zero_index[i]+1:zero_index[i+1]][-4:]\n",
    "\n",
    "restored_df = candle_restore(samle_data, 4876.75)\n",
    "    "
   ]
  },
  {
   "cell_type": "code",
   "execution_count": 40,
   "metadata": {},
   "outputs": [
    {
     "data": {
      "application/vnd.plotly.v1+json": {
       "config": {
        "plotlyServerURL": "https://plot.ly"
       },
       "data": [
        {
         "close": [
          4870.5,
          4876.25,
          4881.5,
          4885.25,
          4885.5,
          4880.75,
          4880.25,
          4879.25,
          4876.75,
          4869.75,
          4866.75
         ],
         "high": [
          4877.25,
          4878.5,
          4881.5,
          4887.75,
          4888.5,
          4886.5,
          4882.5,
          4880.75,
          4880.5,
          4877.5,
          4870
         ],
         "low": [
          4868.5,
          4870.25,
          4876.25,
          4881.5,
          4884.75,
          4879.5,
          4879,
          4879,
          4875,
          4869,
          4859.25
         ],
         "open": [
          4876.75,
          4870.75,
          4876.5,
          4881.5,
          4885,
          4886.25,
          4880.75,
          4880,
          4880.25,
          4877.5,
          4870
         ],
         "type": "candlestick",
         "x": [
          0,
          1,
          2,
          3,
          4,
          5,
          6,
          7,
          8,
          9,
          10
         ]
        }
       ],
       "layout": {
        "template": {
         "data": {
          "bar": [
           {
            "error_x": {
             "color": "#2a3f5f"
            },
            "error_y": {
             "color": "#2a3f5f"
            },
            "marker": {
             "line": {
              "color": "#E5ECF6",
              "width": 0.5
             },
             "pattern": {
              "fillmode": "overlay",
              "size": 10,
              "solidity": 0.2
             }
            },
            "type": "bar"
           }
          ],
          "barpolar": [
           {
            "marker": {
             "line": {
              "color": "#E5ECF6",
              "width": 0.5
             },
             "pattern": {
              "fillmode": "overlay",
              "size": 10,
              "solidity": 0.2
             }
            },
            "type": "barpolar"
           }
          ],
          "carpet": [
           {
            "aaxis": {
             "endlinecolor": "#2a3f5f",
             "gridcolor": "white",
             "linecolor": "white",
             "minorgridcolor": "white",
             "startlinecolor": "#2a3f5f"
            },
            "baxis": {
             "endlinecolor": "#2a3f5f",
             "gridcolor": "white",
             "linecolor": "white",
             "minorgridcolor": "white",
             "startlinecolor": "#2a3f5f"
            },
            "type": "carpet"
           }
          ],
          "choropleth": [
           {
            "colorbar": {
             "outlinewidth": 0,
             "ticks": ""
            },
            "type": "choropleth"
           }
          ],
          "contour": [
           {
            "colorbar": {
             "outlinewidth": 0,
             "ticks": ""
            },
            "colorscale": [
             [
              0,
              "#0d0887"
             ],
             [
              0.1111111111111111,
              "#46039f"
             ],
             [
              0.2222222222222222,
              "#7201a8"
             ],
             [
              0.3333333333333333,
              "#9c179e"
             ],
             [
              0.4444444444444444,
              "#bd3786"
             ],
             [
              0.5555555555555556,
              "#d8576b"
             ],
             [
              0.6666666666666666,
              "#ed7953"
             ],
             [
              0.7777777777777778,
              "#fb9f3a"
             ],
             [
              0.8888888888888888,
              "#fdca26"
             ],
             [
              1,
              "#f0f921"
             ]
            ],
            "type": "contour"
           }
          ],
          "contourcarpet": [
           {
            "colorbar": {
             "outlinewidth": 0,
             "ticks": ""
            },
            "type": "contourcarpet"
           }
          ],
          "heatmap": [
           {
            "colorbar": {
             "outlinewidth": 0,
             "ticks": ""
            },
            "colorscale": [
             [
              0,
              "#0d0887"
             ],
             [
              0.1111111111111111,
              "#46039f"
             ],
             [
              0.2222222222222222,
              "#7201a8"
             ],
             [
              0.3333333333333333,
              "#9c179e"
             ],
             [
              0.4444444444444444,
              "#bd3786"
             ],
             [
              0.5555555555555556,
              "#d8576b"
             ],
             [
              0.6666666666666666,
              "#ed7953"
             ],
             [
              0.7777777777777778,
              "#fb9f3a"
             ],
             [
              0.8888888888888888,
              "#fdca26"
             ],
             [
              1,
              "#f0f921"
             ]
            ],
            "type": "heatmap"
           }
          ],
          "heatmapgl": [
           {
            "colorbar": {
             "outlinewidth": 0,
             "ticks": ""
            },
            "colorscale": [
             [
              0,
              "#0d0887"
             ],
             [
              0.1111111111111111,
              "#46039f"
             ],
             [
              0.2222222222222222,
              "#7201a8"
             ],
             [
              0.3333333333333333,
              "#9c179e"
             ],
             [
              0.4444444444444444,
              "#bd3786"
             ],
             [
              0.5555555555555556,
              "#d8576b"
             ],
             [
              0.6666666666666666,
              "#ed7953"
             ],
             [
              0.7777777777777778,
              "#fb9f3a"
             ],
             [
              0.8888888888888888,
              "#fdca26"
             ],
             [
              1,
              "#f0f921"
             ]
            ],
            "type": "heatmapgl"
           }
          ],
          "histogram": [
           {
            "marker": {
             "pattern": {
              "fillmode": "overlay",
              "size": 10,
              "solidity": 0.2
             }
            },
            "type": "histogram"
           }
          ],
          "histogram2d": [
           {
            "colorbar": {
             "outlinewidth": 0,
             "ticks": ""
            },
            "colorscale": [
             [
              0,
              "#0d0887"
             ],
             [
              0.1111111111111111,
              "#46039f"
             ],
             [
              0.2222222222222222,
              "#7201a8"
             ],
             [
              0.3333333333333333,
              "#9c179e"
             ],
             [
              0.4444444444444444,
              "#bd3786"
             ],
             [
              0.5555555555555556,
              "#d8576b"
             ],
             [
              0.6666666666666666,
              "#ed7953"
             ],
             [
              0.7777777777777778,
              "#fb9f3a"
             ],
             [
              0.8888888888888888,
              "#fdca26"
             ],
             [
              1,
              "#f0f921"
             ]
            ],
            "type": "histogram2d"
           }
          ],
          "histogram2dcontour": [
           {
            "colorbar": {
             "outlinewidth": 0,
             "ticks": ""
            },
            "colorscale": [
             [
              0,
              "#0d0887"
             ],
             [
              0.1111111111111111,
              "#46039f"
             ],
             [
              0.2222222222222222,
              "#7201a8"
             ],
             [
              0.3333333333333333,
              "#9c179e"
             ],
             [
              0.4444444444444444,
              "#bd3786"
             ],
             [
              0.5555555555555556,
              "#d8576b"
             ],
             [
              0.6666666666666666,
              "#ed7953"
             ],
             [
              0.7777777777777778,
              "#fb9f3a"
             ],
             [
              0.8888888888888888,
              "#fdca26"
             ],
             [
              1,
              "#f0f921"
             ]
            ],
            "type": "histogram2dcontour"
           }
          ],
          "mesh3d": [
           {
            "colorbar": {
             "outlinewidth": 0,
             "ticks": ""
            },
            "type": "mesh3d"
           }
          ],
          "parcoords": [
           {
            "line": {
             "colorbar": {
              "outlinewidth": 0,
              "ticks": ""
             }
            },
            "type": "parcoords"
           }
          ],
          "pie": [
           {
            "automargin": true,
            "type": "pie"
           }
          ],
          "scatter": [
           {
            "fillpattern": {
             "fillmode": "overlay",
             "size": 10,
             "solidity": 0.2
            },
            "type": "scatter"
           }
          ],
          "scatter3d": [
           {
            "line": {
             "colorbar": {
              "outlinewidth": 0,
              "ticks": ""
             }
            },
            "marker": {
             "colorbar": {
              "outlinewidth": 0,
              "ticks": ""
             }
            },
            "type": "scatter3d"
           }
          ],
          "scattercarpet": [
           {
            "marker": {
             "colorbar": {
              "outlinewidth": 0,
              "ticks": ""
             }
            },
            "type": "scattercarpet"
           }
          ],
          "scattergeo": [
           {
            "marker": {
             "colorbar": {
              "outlinewidth": 0,
              "ticks": ""
             }
            },
            "type": "scattergeo"
           }
          ],
          "scattergl": [
           {
            "marker": {
             "colorbar": {
              "outlinewidth": 0,
              "ticks": ""
             }
            },
            "type": "scattergl"
           }
          ],
          "scattermapbox": [
           {
            "marker": {
             "colorbar": {
              "outlinewidth": 0,
              "ticks": ""
             }
            },
            "type": "scattermapbox"
           }
          ],
          "scatterpolar": [
           {
            "marker": {
             "colorbar": {
              "outlinewidth": 0,
              "ticks": ""
             }
            },
            "type": "scatterpolar"
           }
          ],
          "scatterpolargl": [
           {
            "marker": {
             "colorbar": {
              "outlinewidth": 0,
              "ticks": ""
             }
            },
            "type": "scatterpolargl"
           }
          ],
          "scatterternary": [
           {
            "marker": {
             "colorbar": {
              "outlinewidth": 0,
              "ticks": ""
             }
            },
            "type": "scatterternary"
           }
          ],
          "surface": [
           {
            "colorbar": {
             "outlinewidth": 0,
             "ticks": ""
            },
            "colorscale": [
             [
              0,
              "#0d0887"
             ],
             [
              0.1111111111111111,
              "#46039f"
             ],
             [
              0.2222222222222222,
              "#7201a8"
             ],
             [
              0.3333333333333333,
              "#9c179e"
             ],
             [
              0.4444444444444444,
              "#bd3786"
             ],
             [
              0.5555555555555556,
              "#d8576b"
             ],
             [
              0.6666666666666666,
              "#ed7953"
             ],
             [
              0.7777777777777778,
              "#fb9f3a"
             ],
             [
              0.8888888888888888,
              "#fdca26"
             ],
             [
              1,
              "#f0f921"
             ]
            ],
            "type": "surface"
           }
          ],
          "table": [
           {
            "cells": {
             "fill": {
              "color": "#EBF0F8"
             },
             "line": {
              "color": "white"
             }
            },
            "header": {
             "fill": {
              "color": "#C8D4E3"
             },
             "line": {
              "color": "white"
             }
            },
            "type": "table"
           }
          ]
         },
         "layout": {
          "annotationdefaults": {
           "arrowcolor": "#2a3f5f",
           "arrowhead": 0,
           "arrowwidth": 1
          },
          "autotypenumbers": "strict",
          "coloraxis": {
           "colorbar": {
            "outlinewidth": 0,
            "ticks": ""
           }
          },
          "colorscale": {
           "diverging": [
            [
             0,
             "#8e0152"
            ],
            [
             0.1,
             "#c51b7d"
            ],
            [
             0.2,
             "#de77ae"
            ],
            [
             0.3,
             "#f1b6da"
            ],
            [
             0.4,
             "#fde0ef"
            ],
            [
             0.5,
             "#f7f7f7"
            ],
            [
             0.6,
             "#e6f5d0"
            ],
            [
             0.7,
             "#b8e186"
            ],
            [
             0.8,
             "#7fbc41"
            ],
            [
             0.9,
             "#4d9221"
            ],
            [
             1,
             "#276419"
            ]
           ],
           "sequential": [
            [
             0,
             "#0d0887"
            ],
            [
             0.1111111111111111,
             "#46039f"
            ],
            [
             0.2222222222222222,
             "#7201a8"
            ],
            [
             0.3333333333333333,
             "#9c179e"
            ],
            [
             0.4444444444444444,
             "#bd3786"
            ],
            [
             0.5555555555555556,
             "#d8576b"
            ],
            [
             0.6666666666666666,
             "#ed7953"
            ],
            [
             0.7777777777777778,
             "#fb9f3a"
            ],
            [
             0.8888888888888888,
             "#fdca26"
            ],
            [
             1,
             "#f0f921"
            ]
           ],
           "sequentialminus": [
            [
             0,
             "#0d0887"
            ],
            [
             0.1111111111111111,
             "#46039f"
            ],
            [
             0.2222222222222222,
             "#7201a8"
            ],
            [
             0.3333333333333333,
             "#9c179e"
            ],
            [
             0.4444444444444444,
             "#bd3786"
            ],
            [
             0.5555555555555556,
             "#d8576b"
            ],
            [
             0.6666666666666666,
             "#ed7953"
            ],
            [
             0.7777777777777778,
             "#fb9f3a"
            ],
            [
             0.8888888888888888,
             "#fdca26"
            ],
            [
             1,
             "#f0f921"
            ]
           ]
          },
          "colorway": [
           "#636efa",
           "#EF553B",
           "#00cc96",
           "#ab63fa",
           "#FFA15A",
           "#19d3f3",
           "#FF6692",
           "#B6E880",
           "#FF97FF",
           "#FECB52"
          ],
          "font": {
           "color": "#2a3f5f"
          },
          "geo": {
           "bgcolor": "white",
           "lakecolor": "white",
           "landcolor": "#E5ECF6",
           "showlakes": true,
           "showland": true,
           "subunitcolor": "white"
          },
          "hoverlabel": {
           "align": "left"
          },
          "hovermode": "closest",
          "mapbox": {
           "style": "light"
          },
          "paper_bgcolor": "white",
          "plot_bgcolor": "#E5ECF6",
          "polar": {
           "angularaxis": {
            "gridcolor": "white",
            "linecolor": "white",
            "ticks": ""
           },
           "bgcolor": "#E5ECF6",
           "radialaxis": {
            "gridcolor": "white",
            "linecolor": "white",
            "ticks": ""
           }
          },
          "scene": {
           "xaxis": {
            "backgroundcolor": "#E5ECF6",
            "gridcolor": "white",
            "gridwidth": 2,
            "linecolor": "white",
            "showbackground": true,
            "ticks": "",
            "zerolinecolor": "white"
           },
           "yaxis": {
            "backgroundcolor": "#E5ECF6",
            "gridcolor": "white",
            "gridwidth": 2,
            "linecolor": "white",
            "showbackground": true,
            "ticks": "",
            "zerolinecolor": "white"
           },
           "zaxis": {
            "backgroundcolor": "#E5ECF6",
            "gridcolor": "white",
            "gridwidth": 2,
            "linecolor": "white",
            "showbackground": true,
            "ticks": "",
            "zerolinecolor": "white"
           }
          },
          "shapedefaults": {
           "line": {
            "color": "#2a3f5f"
           }
          },
          "ternary": {
           "aaxis": {
            "gridcolor": "white",
            "linecolor": "white",
            "ticks": ""
           },
           "baxis": {
            "gridcolor": "white",
            "linecolor": "white",
            "ticks": ""
           },
           "bgcolor": "#E5ECF6",
           "caxis": {
            "gridcolor": "white",
            "linecolor": "white",
            "ticks": ""
           }
          },
          "title": {
           "x": 0.05
          },
          "xaxis": {
           "automargin": true,
           "gridcolor": "white",
           "linecolor": "white",
           "ticks": "",
           "title": {
            "standoff": 15
           },
           "zerolinecolor": "white",
           "zerolinewidth": 2
          },
          "yaxis": {
           "automargin": true,
           "gridcolor": "white",
           "linecolor": "white",
           "ticks": "",
           "title": {
            "standoff": 15
           },
           "zerolinecolor": "white",
           "zerolinewidth": 2
          }
         }
        },
        "xaxis": {
         "rangeslider": {
          "visible": false
         }
        }
       }
      }
     },
     "metadata": {},
     "output_type": "display_data"
    }
   ],
   "source": [
    "#plot original and restored candles using plotly\n",
    "import plotly.graph_objects as go\n",
    "import plotly.express as px\n",
    "\n",
    "# original_candles = df[['open', 'high', 'low', 'close']].iloc[:restored_df.shape[0]]\n",
    "\n",
    "# fig = go.Figure(data=[go.Candlestick(x=original_candles.index,\n",
    "#                 open=original_candles['open'],\n",
    "#                 high=original_candles['high'],\n",
    "#                 low=original_candles['low'],\n",
    "#                 close=original_candles['close'])])\n",
    "\n",
    "# fig.update_layout(xaxis_rangeslider_visible=False)\n",
    "# fig.show()\n",
    "\n",
    "fig = go.Figure(data=[go.Candlestick(x=restored_df.index,\n",
    "                open=restored_df['open'],\n",
    "                high=restored_df['high'],\n",
    "                low=restored_df['low'],\n",
    "                close=restored_df['close'])])\n",
    "fig.update_layout(xaxis_rangeslider_visible=False)\n",
    "fig.show()\n",
    "\n"
   ]
  },
  {
   "cell_type": "code",
   "execution_count": 30,
   "metadata": {},
   "outputs": [
    {
     "data": {
      "text/html": [
       "<div>\n",
       "<style scoped>\n",
       "    .dataframe tbody tr th:only-of-type {\n",
       "        vertical-align: middle;\n",
       "    }\n",
       "\n",
       "    .dataframe tbody tr th {\n",
       "        vertical-align: top;\n",
       "    }\n",
       "\n",
       "    .dataframe thead th {\n",
       "        text-align: right;\n",
       "    }\n",
       "</style>\n",
       "<table border=\"1\" class=\"dataframe\">\n",
       "  <thead>\n",
       "    <tr style=\"text-align: right;\">\n",
       "      <th></th>\n",
       "      <th>open</th>\n",
       "      <th>high</th>\n",
       "      <th>low</th>\n",
       "      <th>close</th>\n",
       "      <th>volume</th>\n",
       "      <th>bottom_wick</th>\n",
       "      <th>top_wick</th>\n",
       "      <th>body</th>\n",
       "      <th>open_gap</th>\n",
       "      <th>1m_start</th>\n",
       "      <th>5m_start</th>\n",
       "      <th>15m_start</th>\n",
       "      <th>1h_start</th>\n",
       "      <th>1d_start</th>\n",
       "      <th>lon_start</th>\n",
       "      <th>ny_start</th>\n",
       "      <th>session_start</th>\n",
       "      <th>week_start</th>\n",
       "      <th>first_wick</th>\n",
       "      <th>last_wick</th>\n",
       "    </tr>\n",
       "    <tr>\n",
       "      <th>date</th>\n",
       "      <th></th>\n",
       "      <th></th>\n",
       "      <th></th>\n",
       "      <th></th>\n",
       "      <th></th>\n",
       "      <th></th>\n",
       "      <th></th>\n",
       "      <th></th>\n",
       "      <th></th>\n",
       "      <th></th>\n",
       "      <th></th>\n",
       "      <th></th>\n",
       "      <th></th>\n",
       "      <th></th>\n",
       "      <th></th>\n",
       "      <th></th>\n",
       "      <th></th>\n",
       "      <th></th>\n",
       "      <th></th>\n",
       "      <th></th>\n",
       "    </tr>\n",
       "  </thead>\n",
       "  <tbody>\n",
       "    <tr>\n",
       "      <th>2017-01-02 18:00:00-05:00</th>\n",
       "      <td>4876.75</td>\n",
       "      <td>4890.25</td>\n",
       "      <td>4876.75</td>\n",
       "      <td>4888.00</td>\n",
       "      <td>488</td>\n",
       "      <td>9</td>\n",
       "      <td>596</td>\n",
       "      <td>252</td>\n",
       "      <td>975</td>\n",
       "      <td>0</td>\n",
       "      <td>1.0</td>\n",
       "      <td>2.0</td>\n",
       "      <td>3.0</td>\n",
       "      <td>NaN</td>\n",
       "      <td>NaN</td>\n",
       "      <td>NaN</td>\n",
       "      <td>7.0</td>\n",
       "      <td>NaN</td>\n",
       "      <td>9</td>\n",
       "      <td>596</td>\n",
       "    </tr>\n",
       "    <tr>\n",
       "      <th>2017-01-02 18:01:00-05:00</th>\n",
       "      <td>4888.00</td>\n",
       "      <td>4888.50</td>\n",
       "      <td>4887.00</td>\n",
       "      <td>4887.00</td>\n",
       "      <td>90</td>\n",
       "      <td>9</td>\n",
       "      <td>589</td>\n",
       "      <td>211</td>\n",
       "      <td>975</td>\n",
       "      <td>0</td>\n",
       "      <td>NaN</td>\n",
       "      <td>NaN</td>\n",
       "      <td>NaN</td>\n",
       "      <td>NaN</td>\n",
       "      <td>NaN</td>\n",
       "      <td>NaN</td>\n",
       "      <td>NaN</td>\n",
       "      <td>NaN</td>\n",
       "      <td>589</td>\n",
       "      <td>9</td>\n",
       "    </tr>\n",
       "    <tr>\n",
       "      <th>2017-01-02 18:02:00-05:00</th>\n",
       "      <td>4887.25</td>\n",
       "      <td>4888.00</td>\n",
       "      <td>4886.75</td>\n",
       "      <td>4887.75</td>\n",
       "      <td>70</td>\n",
       "      <td>11</td>\n",
       "      <td>588</td>\n",
       "      <td>209</td>\n",
       "      <td>976</td>\n",
       "      <td>0</td>\n",
       "      <td>NaN</td>\n",
       "      <td>NaN</td>\n",
       "      <td>NaN</td>\n",
       "      <td>NaN</td>\n",
       "      <td>NaN</td>\n",
       "      <td>NaN</td>\n",
       "      <td>NaN</td>\n",
       "      <td>NaN</td>\n",
       "      <td>11</td>\n",
       "      <td>588</td>\n",
       "    </tr>\n",
       "    <tr>\n",
       "      <th>2017-01-02 18:03:00-05:00</th>\n",
       "      <td>4887.75</td>\n",
       "      <td>4888.00</td>\n",
       "      <td>4887.50</td>\n",
       "      <td>4888.00</td>\n",
       "      <td>40</td>\n",
       "      <td>10</td>\n",
       "      <td>587</td>\n",
       "      <td>208</td>\n",
       "      <td>975</td>\n",
       "      <td>0</td>\n",
       "      <td>NaN</td>\n",
       "      <td>NaN</td>\n",
       "      <td>NaN</td>\n",
       "      <td>NaN</td>\n",
       "      <td>NaN</td>\n",
       "      <td>NaN</td>\n",
       "      <td>NaN</td>\n",
       "      <td>NaN</td>\n",
       "      <td>10</td>\n",
       "      <td>587</td>\n",
       "    </tr>\n",
       "    <tr>\n",
       "      <th>2017-01-02 18:04:00-05:00</th>\n",
       "      <td>4887.50</td>\n",
       "      <td>4890.00</td>\n",
       "      <td>4887.50</td>\n",
       "      <td>4890.00</td>\n",
       "      <td>89</td>\n",
       "      <td>9</td>\n",
       "      <td>587</td>\n",
       "      <td>217</td>\n",
       "      <td>973</td>\n",
       "      <td>0</td>\n",
       "      <td>NaN</td>\n",
       "      <td>NaN</td>\n",
       "      <td>NaN</td>\n",
       "      <td>NaN</td>\n",
       "      <td>NaN</td>\n",
       "      <td>NaN</td>\n",
       "      <td>NaN</td>\n",
       "      <td>NaN</td>\n",
       "      <td>9</td>\n",
       "      <td>587</td>\n",
       "    </tr>\n",
       "    <tr>\n",
       "      <th>...</th>\n",
       "      <td>...</td>\n",
       "      <td>...</td>\n",
       "      <td>...</td>\n",
       "      <td>...</td>\n",
       "      <td>...</td>\n",
       "      <td>...</td>\n",
       "      <td>...</td>\n",
       "      <td>...</td>\n",
       "      <td>...</td>\n",
       "      <td>...</td>\n",
       "      <td>...</td>\n",
       "      <td>...</td>\n",
       "      <td>...</td>\n",
       "      <td>...</td>\n",
       "      <td>...</td>\n",
       "      <td>...</td>\n",
       "      <td>...</td>\n",
       "      <td>...</td>\n",
       "      <td>...</td>\n",
       "      <td>...</td>\n",
       "    </tr>\n",
       "    <tr>\n",
       "      <th>2023-10-26 14:40:00-04:00</th>\n",
       "      <td>14268.25</td>\n",
       "      <td>14268.25</td>\n",
       "      <td>14256.75</td>\n",
       "      <td>14259.50</td>\n",
       "      <td>1044</td>\n",
       "      <td>20</td>\n",
       "      <td>587</td>\n",
       "      <td>242</td>\n",
       "      <td>985</td>\n",
       "      <td>0</td>\n",
       "      <td>1.0</td>\n",
       "      <td>NaN</td>\n",
       "      <td>NaN</td>\n",
       "      <td>NaN</td>\n",
       "      <td>NaN</td>\n",
       "      <td>NaN</td>\n",
       "      <td>NaN</td>\n",
       "      <td>NaN</td>\n",
       "      <td>587</td>\n",
       "      <td>20</td>\n",
       "    </tr>\n",
       "    <tr>\n",
       "      <th>2023-10-26 14:41:00-04:00</th>\n",
       "      <td>14262.00</td>\n",
       "      <td>14282.50</td>\n",
       "      <td>14261.75</td>\n",
       "      <td>14282.00</td>\n",
       "      <td>1376</td>\n",
       "      <td>10</td>\n",
       "      <td>589</td>\n",
       "      <td>287</td>\n",
       "      <td>985</td>\n",
       "      <td>0</td>\n",
       "      <td>NaN</td>\n",
       "      <td>NaN</td>\n",
       "      <td>NaN</td>\n",
       "      <td>NaN</td>\n",
       "      <td>NaN</td>\n",
       "      <td>NaN</td>\n",
       "      <td>NaN</td>\n",
       "      <td>NaN</td>\n",
       "      <td>10</td>\n",
       "      <td>589</td>\n",
       "    </tr>\n",
       "    <tr>\n",
       "      <th>2023-10-26 14:42:00-04:00</th>\n",
       "      <td>14282.00</td>\n",
       "      <td>14286.25</td>\n",
       "      <td>14278.75</td>\n",
       "      <td>14281.00</td>\n",
       "      <td>1001</td>\n",
       "      <td>18</td>\n",
       "      <td>604</td>\n",
       "      <td>211</td>\n",
       "      <td>975</td>\n",
       "      <td>0</td>\n",
       "      <td>NaN</td>\n",
       "      <td>NaN</td>\n",
       "      <td>NaN</td>\n",
       "      <td>NaN</td>\n",
       "      <td>NaN</td>\n",
       "      <td>NaN</td>\n",
       "      <td>NaN</td>\n",
       "      <td>NaN</td>\n",
       "      <td>604</td>\n",
       "      <td>18</td>\n",
       "    </tr>\n",
       "    <tr>\n",
       "      <th>2023-10-26 14:43:00-04:00</th>\n",
       "      <td>14281.25</td>\n",
       "      <td>14281.25</td>\n",
       "      <td>14281.00</td>\n",
       "      <td>14281.00</td>\n",
       "      <td>5</td>\n",
       "      <td>9</td>\n",
       "      <td>587</td>\n",
       "      <td>208</td>\n",
       "      <td>976</td>\n",
       "      <td>0</td>\n",
       "      <td>NaN</td>\n",
       "      <td>NaN</td>\n",
       "      <td>NaN</td>\n",
       "      <td>NaN</td>\n",
       "      <td>NaN</td>\n",
       "      <td>NaN</td>\n",
       "      <td>NaN</td>\n",
       "      <td>NaN</td>\n",
       "      <td>587</td>\n",
       "      <td>9</td>\n",
       "    </tr>\n",
       "    <tr>\n",
       "      <th>2023-10-26 14:44:00-04:00</th>\n",
       "      <td>14283.25</td>\n",
       "      <td>14284.00</td>\n",
       "      <td>14276.75</td>\n",
       "      <td>14278.75</td>\n",
       "      <td>541</td>\n",
       "      <td>17</td>\n",
       "      <td>590</td>\n",
       "      <td>225</td>\n",
       "      <td>984</td>\n",
       "      <td>0</td>\n",
       "      <td>NaN</td>\n",
       "      <td>NaN</td>\n",
       "      <td>NaN</td>\n",
       "      <td>NaN</td>\n",
       "      <td>NaN</td>\n",
       "      <td>NaN</td>\n",
       "      <td>NaN</td>\n",
       "      <td>NaN</td>\n",
       "      <td>590</td>\n",
       "      <td>17</td>\n",
       "    </tr>\n",
       "  </tbody>\n",
       "</table>\n",
       "<p>2372836 rows × 20 columns</p>\n",
       "</div>"
      ],
      "text/plain": [
       "                               open      high       low     close  volume  \\\n",
       "date                                                                        \n",
       "2017-01-02 18:00:00-05:00   4876.75   4890.25   4876.75   4888.00     488   \n",
       "2017-01-02 18:01:00-05:00   4888.00   4888.50   4887.00   4887.00      90   \n",
       "2017-01-02 18:02:00-05:00   4887.25   4888.00   4886.75   4887.75      70   \n",
       "2017-01-02 18:03:00-05:00   4887.75   4888.00   4887.50   4888.00      40   \n",
       "2017-01-02 18:04:00-05:00   4887.50   4890.00   4887.50   4890.00      89   \n",
       "...                             ...       ...       ...       ...     ...   \n",
       "2023-10-26 14:40:00-04:00  14268.25  14268.25  14256.75  14259.50    1044   \n",
       "2023-10-26 14:41:00-04:00  14262.00  14282.50  14261.75  14282.00    1376   \n",
       "2023-10-26 14:42:00-04:00  14282.00  14286.25  14278.75  14281.00    1001   \n",
       "2023-10-26 14:43:00-04:00  14281.25  14281.25  14281.00  14281.00       5   \n",
       "2023-10-26 14:44:00-04:00  14283.25  14284.00  14276.75  14278.75     541   \n",
       "\n",
       "                           bottom_wick  top_wick  body  open_gap  1m_start  \\\n",
       "date                                                                         \n",
       "2017-01-02 18:00:00-05:00            9       596   252       975         0   \n",
       "2017-01-02 18:01:00-05:00            9       589   211       975         0   \n",
       "2017-01-02 18:02:00-05:00           11       588   209       976         0   \n",
       "2017-01-02 18:03:00-05:00           10       587   208       975         0   \n",
       "2017-01-02 18:04:00-05:00            9       587   217       973         0   \n",
       "...                                ...       ...   ...       ...       ...   \n",
       "2023-10-26 14:40:00-04:00           20       587   242       985         0   \n",
       "2023-10-26 14:41:00-04:00           10       589   287       985         0   \n",
       "2023-10-26 14:42:00-04:00           18       604   211       975         0   \n",
       "2023-10-26 14:43:00-04:00            9       587   208       976         0   \n",
       "2023-10-26 14:44:00-04:00           17       590   225       984         0   \n",
       "\n",
       "                           5m_start  15m_start  1h_start  1d_start  lon_start  \\\n",
       "date                                                                            \n",
       "2017-01-02 18:00:00-05:00       1.0        2.0       3.0       NaN        NaN   \n",
       "2017-01-02 18:01:00-05:00       NaN        NaN       NaN       NaN        NaN   \n",
       "2017-01-02 18:02:00-05:00       NaN        NaN       NaN       NaN        NaN   \n",
       "2017-01-02 18:03:00-05:00       NaN        NaN       NaN       NaN        NaN   \n",
       "2017-01-02 18:04:00-05:00       NaN        NaN       NaN       NaN        NaN   \n",
       "...                             ...        ...       ...       ...        ...   \n",
       "2023-10-26 14:40:00-04:00       1.0        NaN       NaN       NaN        NaN   \n",
       "2023-10-26 14:41:00-04:00       NaN        NaN       NaN       NaN        NaN   \n",
       "2023-10-26 14:42:00-04:00       NaN        NaN       NaN       NaN        NaN   \n",
       "2023-10-26 14:43:00-04:00       NaN        NaN       NaN       NaN        NaN   \n",
       "2023-10-26 14:44:00-04:00       NaN        NaN       NaN       NaN        NaN   \n",
       "\n",
       "                           ny_start  session_start  week_start  first_wick  \\\n",
       "date                                                                         \n",
       "2017-01-02 18:00:00-05:00       NaN            7.0         NaN           9   \n",
       "2017-01-02 18:01:00-05:00       NaN            NaN         NaN         589   \n",
       "2017-01-02 18:02:00-05:00       NaN            NaN         NaN          11   \n",
       "2017-01-02 18:03:00-05:00       NaN            NaN         NaN          10   \n",
       "2017-01-02 18:04:00-05:00       NaN            NaN         NaN           9   \n",
       "...                             ...            ...         ...         ...   \n",
       "2023-10-26 14:40:00-04:00       NaN            NaN         NaN         587   \n",
       "2023-10-26 14:41:00-04:00       NaN            NaN         NaN          10   \n",
       "2023-10-26 14:42:00-04:00       NaN            NaN         NaN         604   \n",
       "2023-10-26 14:43:00-04:00       NaN            NaN         NaN         587   \n",
       "2023-10-26 14:44:00-04:00       NaN            NaN         NaN         590   \n",
       "\n",
       "                           last_wick  \n",
       "date                                  \n",
       "2017-01-02 18:00:00-05:00        596  \n",
       "2017-01-02 18:01:00-05:00          9  \n",
       "2017-01-02 18:02:00-05:00        588  \n",
       "2017-01-02 18:03:00-05:00        587  \n",
       "2017-01-02 18:04:00-05:00        587  \n",
       "...                              ...  \n",
       "2023-10-26 14:40:00-04:00         20  \n",
       "2023-10-26 14:41:00-04:00        589  \n",
       "2023-10-26 14:42:00-04:00         18  \n",
       "2023-10-26 14:43:00-04:00          9  \n",
       "2023-10-26 14:44:00-04:00         17  \n",
       "\n",
       "[2372836 rows x 20 columns]"
      ]
     },
     "execution_count": 30,
     "metadata": {},
     "output_type": "execute_result"
    }
   ],
   "source": [
    "df"
   ]
  },
  {
   "cell_type": "code",
   "execution_count": 31,
   "metadata": {},
   "outputs": [],
   "source": [
    "#contstrucc the tensor with  sequence of candles.\n",
    "seq_columns = ['1m_start', '5m_start', '15m_start', '1h_start',\n",
    "       '1d_start', 'lon_start', 'ny_start', 'session_start', 'week_start','first_wick', 'body', 'last_wick', 'open_gap']\n",
    "\n",
    "\n",
    "seq_tensor = torch.tensor(df[seq_columns].values).reshape(-1)\n"
   ]
  },
  {
   "cell_type": "code",
   "execution_count": 32,
   "metadata": {},
   "outputs": [
    {
     "data": {
      "text/plain": [
       "torch.Size([30846868])"
      ]
     },
     "execution_count": 32,
     "metadata": {},
     "output_type": "execute_result"
    }
   ],
   "source": [
    "seq_tensor.shape"
   ]
  },
  {
   "cell_type": "code",
   "execution_count": 33,
   "metadata": {},
   "outputs": [],
   "source": [
    "seq_tensor = seq_tensor[~torch.isnan(seq_tensor)].to(torch.int64)\n"
   ]
  },
  {
   "cell_type": "code",
   "execution_count": 34,
   "metadata": {},
   "outputs": [],
   "source": [
    "\n",
    "# save sequense tensor to hdf5\n",
    "import h5py\n",
    "with h5py.File('data/nq17-23_1min_seq.hdf5', 'w') as f:\n",
    "       dataset = f.create_dataset('data', shape=seq_tensor.shape, dtype='i8')\n",
    "       dataset[:] = seq_tensor[:]\n",
    "       #save index_to_value dictionaries\n",
    "       f.create_dataset('index_to_bottom_wick', data=np.array(list(index_to_bottom_wick.items())))\n",
    "       f.create_dataset('index_to_body', data=np.array(list(index_to_body.items())))\n",
    "       f.create_dataset('index_to_top_wick', data=np.array(list(index_to_top_wick.items())))\n",
    "       f.create_dataset('index_to_open_gap', data=np.array(list(index_to_open_gap.items())))\n",
    "\n",
    "       \n",
    "\n",
    "\n",
    "\n",
    "\n"
   ]
  }
 ],
 "metadata": {
  "kernelspec": {
   "display_name": "Python 3",
   "language": "python",
   "name": "python3"
  },
  "language_info": {
   "codemirror_mode": {
    "name": "ipython",
    "version": 3
   },
   "file_extension": ".py",
   "mimetype": "text/x-python",
   "name": "python",
   "nbconvert_exporter": "python",
   "pygments_lexer": "ipython3",
   "version": "3.11.7"
  }
 },
 "nbformat": 4,
 "nbformat_minor": 2
}
