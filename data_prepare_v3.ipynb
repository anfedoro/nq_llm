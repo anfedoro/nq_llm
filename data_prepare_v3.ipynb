{
 "cells": [
  {
   "cell_type": "code",
   "execution_count": 313,
   "metadata": {},
   "outputs": [],
   "source": [
    "import pandas as pd\n",
    "import numpy as np\n",
    "import torch\n",
    "import matplotlib.pyplot as plt\n",
    "#print np in non-scientific notation\n",
    "np.set_printoptions(suppress=True)\n"
   ]
  },
  {
   "cell_type": "code",
   "execution_count": 314,
   "metadata": {},
   "outputs": [],
   "source": [
    "\n",
    "df = pd.read_feather('data/nq17-23_1min.feather')\n",
    "df.index = df.index - pd.Timedelta(minutes=1)\n",
    "\n"
   ]
  },
  {
   "cell_type": "code",
   "execution_count": 315,
   "metadata": {},
   "outputs": [],
   "source": [
    "\n",
    "tick_size = 0.25\n",
    "#df['volume'] = df['volume'].astype(float)\n",
    "df['body_size'] = (abs(df['close'] - df['open']) /tick_size).astype(int)\n",
    "df['top_wick'] = ((df['high'] - df[['open', 'close']].max(axis=1)) /tick_size).astype(int)\n",
    "df['bottom_wick'] = ((df[['open', 'close']].min(axis=1) - df['low']) /tick_size).astype(int)\n",
    "df['direction'] = np.sign(df['close'] - df['open']).astype(int)\n",
    "\n",
    "df['speed']  = df['bottom_wick'] * 2 + df['body_size'] + df['top_wick'] * 2\n",
    "df.dropna(inplace=True)\n"
   ]
  },
  {
   "cell_type": "code",
   "execution_count": 316,
   "metadata": {},
   "outputs": [
    {
     "data": {
      "text/plain": [
       "speed_bin\n",
       "1    253577\n",
       "0    251580\n",
       "2    242439\n",
       "7    240352\n",
       "9    237111\n",
       "6    235593\n",
       "4    235056\n",
       "8    232712\n",
       "5    229878\n",
       "3    214538\n",
       "Name: count, dtype: int64"
      ]
     },
     "execution_count": 316,
     "metadata": {},
     "output_type": "execute_result"
    }
   ],
   "source": [
    "#cut speef on 5 bins\n",
    "df['speed_bin'] = pd.qcut(df['speed'], 10, labels=False)\n",
    "df['speed_bin'].value_counts()"
   ]
  },
  {
   "cell_type": "code",
   "execution_count": 317,
   "metadata": {},
   "outputs": [],
   "source": [
    "\n",
    "#df['type']  = np.nan\n",
    "#df['type'] = df['type'].astype('str')\n",
    "df.loc[df['close'] > df['open'], 'type'] ='G'\n",
    "df.loc[df['close'] < df['open'], 'type'] = \"R\"\n",
    "df.loc[df['close'] == df['open'], 'type'] = \"D\"\n",
    "df.loc[df['high'] == df['low'], 'type'] = \"Z\"\n",
    "\n",
    "\n",
    "#df['in_out'] = np.nan\n",
    "#df['in_out'] = df['in_out'].astype('str')\n",
    "df.loc[(df['high'] > df['high'].shift(1)) & (df['low'] < df['low'].shift(1)), 'in_out'] = 'I'\n",
    "df.loc[(df['high'] < df['high'].shift(1)) & (df['low'] > df['low'].shift(1)), 'in_out'] = 'O'\n",
    "df.loc[(df['high'] > df['high'].shift(1)) & (df['low'] > df['low'].shift(1)), 'in_out'] = 'H'\n",
    "df.loc[(df['high'] < df['high'].shift(1)) & (df['low'] < df['low'].shift(1)), 'in_out'] = 'L'\n",
    "df.loc[(df['high'] == df['high'].shift(1)) & (df['low'] == df['low'].shift(1)), 'in_out'] = 'Eq'\n",
    "df.loc[(df['high'] == df['high'].shift(1)), 'in_out'] = 'Eh'\n",
    "df.loc[(df['low'] == df['low'].shift(1)), 'in_out'] = 'El'\n",
    "df = df.iloc[1:]\n",
    "\n",
    "#Set feature for real trading hours and electronic trading hours\n",
    "#df['trading_hours'] = np.where((df.index.hour >= 8) & (df.index.hour < 16), 'R', 'E')\n",
    "df['hour'] = df.index.hour\n"
   ]
  },
  {
   "cell_type": "code",
   "execution_count": 318,
   "metadata": {},
   "outputs": [],
   "source": [
    "\n",
    "#df['body'] = np.nan\n",
    "#df['body'] = df['body'].astype('str')\n",
    "df.loc[(df['close'] - df['open']).abs() == (df['high'] - df['low']), 'body'] = 'F'\n",
    "df.loc[(df['type'] != 'Z') & ((df['close'] - df['open']).abs()/(df['high'] - df['low']) > 0.90), 'body'] = 'XL'\n",
    "df.loc[(df['type'] != 'Z') & ((df['close'] - df['open']).abs()/(df['high'] - df['low']) <= 0.90) \n",
    "       & ((df['close'] - df['open']).abs()/(df['high'] - df['low']) > 0.6), 'body'] = 'L'\n",
    "df.loc[(df['type'] != 'Z') & ((df['close'] - df['open']).abs()/(df['high'] - df['low']) <= 0.60) \n",
    "       & ((df['close'] - df['open']).abs()/(df['high'] - df['low']) > 0.4), 'body'] = 'M'\n",
    "df.loc[(df['type'] != 'Z') & ((df['close'] - df['open']).abs()/(df['high'] - df['low']) <= 0.4) \n",
    "       & ((df['close'] - df['open']).abs()/(df['high'] - df['low']) > 0.1), 'body'] = 'S'\n",
    "df.loc[(df['type'] != 'Z') & ((df['close'] - df['open']).abs()/(df['high'] - df['low']) <= 0.1), 'body'] = 'XS'\n",
    "\n",
    "#df['body_shift'] = np.nan\n",
    "#df['body_shift'] = df['body_shift'].astype('str')\n",
    "df.loc[(df['type'] != 'Z') & ((df['close'] + df['open']).mean() > (df['high'] + df['low']).mean()), 'body_shift'] = 'T'\n",
    "df.loc[(df['type'] != 'Z') & ((df['close'] + df['open']).mean() < (df['high'] + df['low']).mean()), 'body_shift'] = 'B'\n",
    "df.loc[(df['type'] != 'Z') & ((df['close'] + df['open']).mean() == (df['high'] + df['low']).mean()), 'body_shift'] = 'C'\n",
    "\n",
    "\n",
    "\n",
    "df['candle']  = df['type'] + df['in_out'] + df['body'] + df['body_shift'] + df['speed_bin'].astype('str') +\":\"+ df['hour'].astype('str')\n",
    "\n"
   ]
  },
  {
   "cell_type": "code",
   "execution_count": 319,
   "metadata": {},
   "outputs": [
    {
     "data": {
      "text/plain": [
       "date\n",
       "2017-01-02 18:01:00-05:00      ROLT2:18\n",
       "2017-01-02 18:02:00-05:00      GLST2:18\n",
       "2017-01-02 18:03:00-05:00     GEhMT0:18\n",
       "2017-01-02 18:04:00-05:00    GElXLT3:18\n",
       "2017-01-02 18:05:00-05:00     RElLT4:18\n",
       "                                ...    \n",
       "2023-10-26 14:40:00-04:00      RLLT8:14\n",
       "2023-10-26 14:41:00-04:00     GHXLT9:14\n",
       "2023-10-26 14:42:00-04:00      RHST8:14\n",
       "2023-10-26 14:43:00-04:00     ROXLT0:14\n",
       "2023-10-26 14:44:00-04:00      RILT8:14\n",
       "Name: candle, Length: 2372835, dtype: object"
      ]
     },
     "execution_count": 319,
     "metadata": {},
     "output_type": "execute_result"
    }
   ],
   "source": [
    "df['candle']"
   ]
  },
  {
   "cell_type": "code",
   "execution_count": 320,
   "metadata": {},
   "outputs": [],
   "source": [
    "candle_class = df['candle'].value_counts().index.tolist()\n",
    "candle_class_map = {candle_class[i]:i for i in range(len(candle_class))}\n",
    "df['cluster'] = df['candle'].map(candle_class_map).astype('int64')  \n",
    "    "
   ]
  },
  {
   "cell_type": "code",
   "execution_count": 321,
   "metadata": {},
   "outputs": [
    {
     "data": {
      "text/plain": [
       "cluster\n",
       "0        4181\n",
       "1        3727\n",
       "2        3250\n",
       "3        3244\n",
       "4        3227\n",
       "         ... \n",
       "13501       1\n",
       "13502       1\n",
       "13503       1\n",
       "13504       1\n",
       "13505       1\n",
       "Name: count, Length: 13506, dtype: int64"
      ]
     },
     "execution_count": 321,
     "metadata": {},
     "output_type": "execute_result"
    }
   ],
   "source": [
    "df['cluster'].value_counts()"
   ]
  },
  {
   "cell_type": "code",
   "execution_count": 323,
   "metadata": {},
   "outputs": [
    {
     "data": {
      "text/plain": [
       "<Axes: >"
      ]
     },
     "execution_count": 323,
     "metadata": {},
     "output_type": "execute_result"
    },
    {
     "data": {
      "image/png": "[encoded data removed]",
      "text/plain": [
       "<Figure size 640x480 with 1 Axes>"
      ]
     },
     "metadata": {},
     "output_type": "display_data"
    }
   ],
   "source": [
    "df['cluster'].hist(bins=13506)"
   ]
  },
  {
   "cell_type": "code",
   "execution_count": 189,
   "metadata": {},
   "outputs": [],
   "source": [
    "\n",
    "\n"
   ]
  },
  {
   "cell_type": "code",
   "execution_count": 190,
   "metadata": {},
   "outputs": [],
   "source": [
    "# import h5py\n",
    "# #read cluster  data from data/nq17-23_1min_candle_seq_1024.hdf5 ad add to df\n",
    "# with h5py.File(\"data/nq17-23_1min_candle_seq_1024.hdf5\", \"r\") as f:\n",
    "#     df['cluster'] = f[\"data\"][:]\n",
    "    \n"
   ]
  },
  {
   "cell_type": "code",
   "execution_count": 324,
   "metadata": {},
   "outputs": [
    {
     "data": {
      "text/html": [
       "<div>\n",
       "<style scoped>\n",
       "    .dataframe tbody tr th:only-of-type {\n",
       "        vertical-align: middle;\n",
       "    }\n",
       "\n",
       "    .dataframe tbody tr th {\n",
       "        vertical-align: top;\n",
       "    }\n",
       "\n",
       "    .dataframe thead th {\n",
       "        text-align: right;\n",
       "    }\n",
       "</style>\n",
       "<table border=\"1\" class=\"dataframe\">\n",
       "  <thead>\n",
       "    <tr style=\"text-align: right;\">\n",
       "      <th></th>\n",
       "      <th>open</th>\n",
       "      <th>high</th>\n",
       "      <th>low</th>\n",
       "      <th>close</th>\n",
       "      <th>volume</th>\n",
       "      <th>body_size</th>\n",
       "      <th>top_wick</th>\n",
       "      <th>bottom_wick</th>\n",
       "      <th>direction</th>\n",
       "      <th>speed</th>\n",
       "      <th>speed_bin</th>\n",
       "      <th>type</th>\n",
       "      <th>in_out</th>\n",
       "      <th>hour</th>\n",
       "      <th>body</th>\n",
       "      <th>body_shift</th>\n",
       "      <th>candle</th>\n",
       "      <th>cluster</th>\n",
       "    </tr>\n",
       "    <tr>\n",
       "      <th>date</th>\n",
       "      <th></th>\n",
       "      <th></th>\n",
       "      <th></th>\n",
       "      <th></th>\n",
       "      <th></th>\n",
       "      <th></th>\n",
       "      <th></th>\n",
       "      <th></th>\n",
       "      <th></th>\n",
       "      <th></th>\n",
       "      <th></th>\n",
       "      <th></th>\n",
       "      <th></th>\n",
       "      <th></th>\n",
       "      <th></th>\n",
       "      <th></th>\n",
       "      <th></th>\n",
       "      <th></th>\n",
       "    </tr>\n",
       "  </thead>\n",
       "  <tbody>\n",
       "    <tr>\n",
       "      <th>2017-06-12 10:05:00-04:00</th>\n",
       "      <td>5674.50</td>\n",
       "      <td>5677.75</td>\n",
       "      <td>5658.00</td>\n",
       "      <td>5658.25</td>\n",
       "      <td>3169</td>\n",
       "      <td>65</td>\n",
       "      <td>13</td>\n",
       "      <td>1</td>\n",
       "      <td>-1</td>\n",
       "      <td>93</td>\n",
       "      <td>9</td>\n",
       "      <td>R</td>\n",
       "      <td>L</td>\n",
       "      <td>10</td>\n",
       "      <td>L</td>\n",
       "      <td>T</td>\n",
       "      <td>RLLT9:10</td>\n",
       "      <td>0</td>\n",
       "    </tr>\n",
       "    <tr>\n",
       "      <th>2017-06-29 10:05:00-04:00</th>\n",
       "      <td>5694.25</td>\n",
       "      <td>5694.50</td>\n",
       "      <td>5683.00</td>\n",
       "      <td>5686.75</td>\n",
       "      <td>4555</td>\n",
       "      <td>30</td>\n",
       "      <td>1</td>\n",
       "      <td>15</td>\n",
       "      <td>-1</td>\n",
       "      <td>62</td>\n",
       "      <td>9</td>\n",
       "      <td>R</td>\n",
       "      <td>L</td>\n",
       "      <td>10</td>\n",
       "      <td>L</td>\n",
       "      <td>T</td>\n",
       "      <td>RLLT9:10</td>\n",
       "      <td>0</td>\n",
       "    </tr>\n",
       "    <tr>\n",
       "      <th>2017-08-02 10:27:00-04:00</th>\n",
       "      <td>5889.75</td>\n",
       "      <td>5889.75</td>\n",
       "      <td>5875.50</td>\n",
       "      <td>5878.00</td>\n",
       "      <td>3883</td>\n",
       "      <td>47</td>\n",
       "      <td>0</td>\n",
       "      <td>10</td>\n",
       "      <td>-1</td>\n",
       "      <td>67</td>\n",
       "      <td>9</td>\n",
       "      <td>R</td>\n",
       "      <td>L</td>\n",
       "      <td>10</td>\n",
       "      <td>L</td>\n",
       "      <td>T</td>\n",
       "      <td>RLLT9:10</td>\n",
       "      <td>0</td>\n",
       "    </tr>\n",
       "    <tr>\n",
       "      <th>2017-08-10 10:07:00-04:00</th>\n",
       "      <td>5844.50</td>\n",
       "      <td>5845.25</td>\n",
       "      <td>5832.00</td>\n",
       "      <td>5836.00</td>\n",
       "      <td>3190</td>\n",
       "      <td>34</td>\n",
       "      <td>3</td>\n",
       "      <td>16</td>\n",
       "      <td>-1</td>\n",
       "      <td>72</td>\n",
       "      <td>9</td>\n",
       "      <td>R</td>\n",
       "      <td>L</td>\n",
       "      <td>10</td>\n",
       "      <td>L</td>\n",
       "      <td>T</td>\n",
       "      <td>RLLT9:10</td>\n",
       "      <td>0</td>\n",
       "    </tr>\n",
       "    <tr>\n",
       "      <th>2017-08-24 10:08:00-04:00</th>\n",
       "      <td>5840.25</td>\n",
       "      <td>5840.50</td>\n",
       "      <td>5827.50</td>\n",
       "      <td>5831.00</td>\n",
       "      <td>3883</td>\n",
       "      <td>37</td>\n",
       "      <td>1</td>\n",
       "      <td>14</td>\n",
       "      <td>-1</td>\n",
       "      <td>67</td>\n",
       "      <td>9</td>\n",
       "      <td>R</td>\n",
       "      <td>L</td>\n",
       "      <td>10</td>\n",
       "      <td>L</td>\n",
       "      <td>T</td>\n",
       "      <td>RLLT9:10</td>\n",
       "      <td>0</td>\n",
       "    </tr>\n",
       "    <tr>\n",
       "      <th>...</th>\n",
       "      <td>...</td>\n",
       "      <td>...</td>\n",
       "      <td>...</td>\n",
       "      <td>...</td>\n",
       "      <td>...</td>\n",
       "      <td>...</td>\n",
       "      <td>...</td>\n",
       "      <td>...</td>\n",
       "      <td>...</td>\n",
       "      <td>...</td>\n",
       "      <td>...</td>\n",
       "      <td>...</td>\n",
       "      <td>...</td>\n",
       "      <td>...</td>\n",
       "      <td>...</td>\n",
       "      <td>...</td>\n",
       "      <td>...</td>\n",
       "      <td>...</td>\n",
       "    </tr>\n",
       "    <tr>\n",
       "      <th>2023-10-26 10:08:00-04:00</th>\n",
       "      <td>14327.00</td>\n",
       "      <td>14330.50</td>\n",
       "      <td>14311.25</td>\n",
       "      <td>14311.25</td>\n",
       "      <td>1834</td>\n",
       "      <td>63</td>\n",
       "      <td>14</td>\n",
       "      <td>0</td>\n",
       "      <td>-1</td>\n",
       "      <td>91</td>\n",
       "      <td>9</td>\n",
       "      <td>R</td>\n",
       "      <td>L</td>\n",
       "      <td>10</td>\n",
       "      <td>L</td>\n",
       "      <td>T</td>\n",
       "      <td>RLLT9:10</td>\n",
       "      <td>0</td>\n",
       "    </tr>\n",
       "    <tr>\n",
       "      <th>2023-10-26 10:12:00-04:00</th>\n",
       "      <td>14309.25</td>\n",
       "      <td>14312.25</td>\n",
       "      <td>14289.00</td>\n",
       "      <td>14291.75</td>\n",
       "      <td>3377</td>\n",
       "      <td>70</td>\n",
       "      <td>12</td>\n",
       "      <td>11</td>\n",
       "      <td>-1</td>\n",
       "      <td>116</td>\n",
       "      <td>9</td>\n",
       "      <td>R</td>\n",
       "      <td>L</td>\n",
       "      <td>10</td>\n",
       "      <td>L</td>\n",
       "      <td>T</td>\n",
       "      <td>RLLT9:10</td>\n",
       "      <td>0</td>\n",
       "    </tr>\n",
       "    <tr>\n",
       "      <th>2023-10-26 10:21:00-04:00</th>\n",
       "      <td>14300.00</td>\n",
       "      <td>14302.25</td>\n",
       "      <td>14284.50</td>\n",
       "      <td>14286.25</td>\n",
       "      <td>1553</td>\n",
       "      <td>55</td>\n",
       "      <td>9</td>\n",
       "      <td>7</td>\n",
       "      <td>-1</td>\n",
       "      <td>87</td>\n",
       "      <td>9</td>\n",
       "      <td>R</td>\n",
       "      <td>L</td>\n",
       "      <td>10</td>\n",
       "      <td>L</td>\n",
       "      <td>T</td>\n",
       "      <td>RLLT9:10</td>\n",
       "      <td>0</td>\n",
       "    </tr>\n",
       "    <tr>\n",
       "      <th>2023-10-26 10:23:00-04:00</th>\n",
       "      <td>14290.25</td>\n",
       "      <td>14292.25</td>\n",
       "      <td>14274.00</td>\n",
       "      <td>14275.50</td>\n",
       "      <td>3041</td>\n",
       "      <td>59</td>\n",
       "      <td>8</td>\n",
       "      <td>6</td>\n",
       "      <td>-1</td>\n",
       "      <td>87</td>\n",
       "      <td>9</td>\n",
       "      <td>R</td>\n",
       "      <td>L</td>\n",
       "      <td>10</td>\n",
       "      <td>L</td>\n",
       "      <td>T</td>\n",
       "      <td>RLLT9:10</td>\n",
       "      <td>0</td>\n",
       "    </tr>\n",
       "    <tr>\n",
       "      <th>2023-10-26 10:39:00-04:00</th>\n",
       "      <td>14278.25</td>\n",
       "      <td>14278.25</td>\n",
       "      <td>14267.00</td>\n",
       "      <td>14271.25</td>\n",
       "      <td>858</td>\n",
       "      <td>28</td>\n",
       "      <td>0</td>\n",
       "      <td>17</td>\n",
       "      <td>-1</td>\n",
       "      <td>62</td>\n",
       "      <td>9</td>\n",
       "      <td>R</td>\n",
       "      <td>L</td>\n",
       "      <td>10</td>\n",
       "      <td>L</td>\n",
       "      <td>T</td>\n",
       "      <td>RLLT9:10</td>\n",
       "      <td>0</td>\n",
       "    </tr>\n",
       "  </tbody>\n",
       "</table>\n",
       "<p>4181 rows × 18 columns</p>\n",
       "</div>"
      ],
      "text/plain": [
       "                               open      high       low     close  volume  \\\n",
       "date                                                                        \n",
       "2017-06-12 10:05:00-04:00   5674.50   5677.75   5658.00   5658.25    3169   \n",
       "2017-06-29 10:05:00-04:00   5694.25   5694.50   5683.00   5686.75    4555   \n",
       "2017-08-02 10:27:00-04:00   5889.75   5889.75   5875.50   5878.00    3883   \n",
       "2017-08-10 10:07:00-04:00   5844.50   5845.25   5832.00   5836.00    3190   \n",
       "2017-08-24 10:08:00-04:00   5840.25   5840.50   5827.50   5831.00    3883   \n",
       "...                             ...       ...       ...       ...     ...   \n",
       "2023-10-26 10:08:00-04:00  14327.00  14330.50  14311.25  14311.25    1834   \n",
       "2023-10-26 10:12:00-04:00  14309.25  14312.25  14289.00  14291.75    3377   \n",
       "2023-10-26 10:21:00-04:00  14300.00  14302.25  14284.50  14286.25    1553   \n",
       "2023-10-26 10:23:00-04:00  14290.25  14292.25  14274.00  14275.50    3041   \n",
       "2023-10-26 10:39:00-04:00  14278.25  14278.25  14267.00  14271.25     858   \n",
       "\n",
       "                           body_size  top_wick  bottom_wick  direction  speed  \\\n",
       "date                                                                            \n",
       "2017-06-12 10:05:00-04:00         65        13            1         -1     93   \n",
       "2017-06-29 10:05:00-04:00         30         1           15         -1     62   \n",
       "2017-08-02 10:27:00-04:00         47         0           10         -1     67   \n",
       "2017-08-10 10:07:00-04:00         34         3           16         -1     72   \n",
       "2017-08-24 10:08:00-04:00         37         1           14         -1     67   \n",
       "...                              ...       ...          ...        ...    ...   \n",
       "2023-10-26 10:08:00-04:00         63        14            0         -1     91   \n",
       "2023-10-26 10:12:00-04:00         70        12           11         -1    116   \n",
       "2023-10-26 10:21:00-04:00         55         9            7         -1     87   \n",
       "2023-10-26 10:23:00-04:00         59         8            6         -1     87   \n",
       "2023-10-26 10:39:00-04:00         28         0           17         -1     62   \n",
       "\n",
       "                           speed_bin type in_out  hour body body_shift  \\\n",
       "date                                                                     \n",
       "2017-06-12 10:05:00-04:00          9    R      L    10    L          T   \n",
       "2017-06-29 10:05:00-04:00          9    R      L    10    L          T   \n",
       "2017-08-02 10:27:00-04:00          9    R      L    10    L          T   \n",
       "2017-08-10 10:07:00-04:00          9    R      L    10    L          T   \n",
       "2017-08-24 10:08:00-04:00          9    R      L    10    L          T   \n",
       "...                              ...  ...    ...   ...  ...        ...   \n",
       "2023-10-26 10:08:00-04:00          9    R      L    10    L          T   \n",
       "2023-10-26 10:12:00-04:00          9    R      L    10    L          T   \n",
       "2023-10-26 10:21:00-04:00          9    R      L    10    L          T   \n",
       "2023-10-26 10:23:00-04:00          9    R      L    10    L          T   \n",
       "2023-10-26 10:39:00-04:00          9    R      L    10    L          T   \n",
       "\n",
       "                             candle  cluster  \n",
       "date                                          \n",
       "2017-06-12 10:05:00-04:00  RLLT9:10        0  \n",
       "2017-06-29 10:05:00-04:00  RLLT9:10        0  \n",
       "2017-08-02 10:27:00-04:00  RLLT9:10        0  \n",
       "2017-08-10 10:07:00-04:00  RLLT9:10        0  \n",
       "2017-08-24 10:08:00-04:00  RLLT9:10        0  \n",
       "...                             ...      ...  \n",
       "2023-10-26 10:08:00-04:00  RLLT9:10        0  \n",
       "2023-10-26 10:12:00-04:00  RLLT9:10        0  \n",
       "2023-10-26 10:21:00-04:00  RLLT9:10        0  \n",
       "2023-10-26 10:23:00-04:00  RLLT9:10        0  \n",
       "2023-10-26 10:39:00-04:00  RLLT9:10        0  \n",
       "\n",
       "[4181 rows x 18 columns]"
      ]
     },
     "execution_count": 324,
     "metadata": {},
     "output_type": "execute_result"
    }
   ],
   "source": [
    "df[df['cluster'] == 0]"
   ]
  },
  {
   "cell_type": "code",
   "execution_count": 149,
   "metadata": {},
   "outputs": [],
   "source": [
    "# from statsmodels.tsa.stattools import adfuller\n",
    "\n",
    "# result = adfuller(df['top_wick'].iloc[0:100000])\n",
    "# print('ADF Statistic: %f' % result[0])\n",
    "# print('p-value: %f' % result[1])\n",
    "\n",
    "# # Вывод результатов\n",
    "# for key, value in result[4].items():\n",
    "#     print('\\t%s: %.3f' % (key, value))"
   ]
  },
  {
   "cell_type": "code",
   "execution_count": 150,
   "metadata": {},
   "outputs": [],
   "source": [
    "\n",
    "# body_list = sorted(df[['body'].unique().tolist())\n",
    "\n",
    "# #convert value to index\n",
    "# body_to_index = {v: (i) for i, v in enumerate(body_list)}\n",
    "\n",
    "# #convert index to value\n",
    "# index_to_body = {i: v for i, v in enumerate(body_list)}\n",
    "\n",
    "# #apply mapping of value to index\n",
    "# df['candle_index'] = df['body'].map(body_to_index)\n",
    "\n"
   ]
  },
  {
   "cell_type": "code",
   "execution_count": 15,
   "metadata": {},
   "outputs": [],
   "source": [
    "# df.to_feather('data/nq17-23_1min_quantile_50.feather')\n",
    "# #df = pd.read_feather('data/nq17-23_1min_quantile_100.feather')\n",
    "# #df"
   ]
  },
  {
   "cell_type": "code",
   "execution_count": 10,
   "metadata": {},
   "outputs": [
    {
     "data": {
      "text/plain": [
       "torch.Size([2372834, 2])"
      ]
     },
     "execution_count": 10,
     "metadata": {},
     "output_type": "execute_result"
    }
   ],
   "source": [
    "# candles = torch.tensor(df['cluster'].values, dtype=torch.long)\n",
    "# candles = candles.unfold(0, 2, 1)\n",
    "# candles.unique(dim=1).shape"
   ]
  },
  {
   "cell_type": "code",
   "execution_count": 178,
   "metadata": {},
   "outputs": [],
   "source": [
    "sizes_mean = df.groupby('cluster')[['top_wick', 'body_size', 'bottom_wick']].mean()\n",
    "sizes_median = df.groupby('cluster')[['top_wick', 'body_size', 'bottom_wick']].median()\n",
    "directions = df.groupby('cluster')['direction'].mean()"
   ]
  },
  {
   "cell_type": "code",
   "execution_count": 179,
   "metadata": {},
   "outputs": [],
   "source": [
    "#convert sizes median dataframe to dict with quantile as key abd tuple of sizes as value\n",
    "index_to_candles = sizes_median.to_dict('index')\n",
    "index_to_candles = {k: tuple(v.values()) for k, v in index_to_candles.items()}\n",
    "index_to_direction = directions.to_dict()\n",
    "\n",
    "# merge sizes dict with directions dict in index_to_candles\n",
    "for k, v in index_to_candles.items():\n",
    "    index_to_candles[k] = {'sizes': v, 'direction': index_to_direction[k]}\n"
   ]
  },
  {
   "cell_type": "code",
   "execution_count": 180,
   "metadata": {},
   "outputs": [],
   "source": [
    "def full_candle_restore(candle_index:(np.array,torch.Tensor), start_price:float, number_of_candles = None, index_map = index_to_candles) -> pd.DataFrame:\n",
    "    '''\n",
    "    Restore full candle from index of candle and start price\n",
    "    '''\n",
    "    if isinstance(candle_index, torch.Tensor):\n",
    "        candle_index = candle_index.numpy()\n",
    "    if number_of_candles is not None:\n",
    "        candle_index = candle_index[:number_of_candles]\n",
    "    \n",
    "    \n",
    "    candles = []\n",
    "    for idx, cdl_idx in enumerate(candle_index):\n",
    "        top_wick, body, bottom_wick = index_map[cdl_idx]['sizes']\n",
    "        direction = index_map[cdl_idx]['direction']\n",
    "\n",
    "        candle = {}\n",
    "        if idx == 0:\n",
    "            candle['open'] = start_price\n",
    "        else:\n",
    "            candle['open'] = candles[-1]['close']\n",
    "        close = candle['open'] + body * tick_size * direction\n",
    "        high = close + top_wick * tick_size if close > candle['open'] else candle['open'] + top_wick * tick_size\n",
    "        low = candle['open'] - bottom_wick * tick_size if close > candle['open'] else close - bottom_wick * tick_size\n",
    "        candle['high'] = high\n",
    "        candle['low'] = low\n",
    "        candle['close'] = close\n",
    "        candles.append(candle)\n",
    "    \n",
    "    return pd.DataFrame(candles)\n",
    "\n",
    "restored_df = full_candle_restore(df['cluster'].values, df['open'].values[0],number_of_candles=100)"
   ]
  },
  {
   "cell_type": "code",
   "execution_count": 181,
   "metadata": {},
   "outputs": [
    {
     "data": {
      "application/vnd.plotly.v1+json": {
       "config": {
        "plotlyServerURL": "https://plot.ly"
       },
       "data": [
        {
         "close": [
          4887,
          4887.75,
          4888,
          4890,
          4888,
          4888,
          4887.75,
          4887.75,
          4887.25,
          4887,
          4887,
          4889.25,
          4888.5,
          4889,
          4889.25,
          4890.25,
          4891.5,
          4891.25,
          4891.5,
          4891.5,
          4891,
          4891,
          4890.75,
          4890.75,
          4891,
          4890.75,
          4890.5,
          4890.75,
          4890.25,
          4889.75,
          4890.75,
          4890,
          4890,
          4890.5,
          4890.75,
          4890.5,
          4890.5,
          4891,
          4890.75,
          4891,
          4891.25,
          4891,
          4890.75,
          4890.25,
          4890.25,
          4890.25,
          4890,
          4890.5,
          4890.75,
          4890.25,
          4890,
          4890.25,
          4889.25,
          4889,
          4888.5,
          4888.5,
          4888.25,
          4888,
          4888,
          4888.5,
          4887.25,
          4887,
          4886,
          4885.25,
          4884,
          4884.25,
          4885,
          4885,
          4884.75,
          4884.5,
          4884.5,
          4884.25,
          4884,
          4882.75,
          4883.25,
          4882.5,
          4883.25,
          4881.5,
          4882,
          4882.75,
          4883.25,
          4882.5,
          4882.75,
          4883,
          4882.25,
          4882.5,
          4882.25,
          4882.5,
          4881.5,
          4882.5,
          4882.25,
          4884,
          4886.75,
          4884.75,
          4883.5,
          4881.25,
          4880.5,
          4881,
          4884.25,
          4884
         ],
         "high": [
          4888.5,
          4888,
          4888,
          4890,
          4890,
          4889.25,
          4888,
          4887.75,
          4887.5,
          4887.25,
          4887.25,
          4889.25,
          4889.25,
          4889.25,
          4889.5,
          4890.25,
          4891.75,
          4891.75,
          4892.5,
          4891.5,
          4891.25,
          4891,
          4891.25,
          4891,
          4891,
          4891,
          4891,
          4891,
          4890.75,
          4890,
          4890.75,
          4890.75,
          4890.25,
          4890.5,
          4890.75,
          4890.5,
          4890.5,
          4891,
          4890.75,
          4891,
          4891.25,
          4891.5,
          4891,
          4890.75,
          4890.5,
          4890.5,
          4890,
          4890.5,
          4890.75,
          4890.5,
          4890.25,
          4890.25,
          4890,
          4889.75,
          4889,
          4888.5,
          4888.5,
          4888.25,
          4888,
          4888.5,
          4888.5,
          4887.5,
          4887,
          4886,
          4886.25,
          4884.5,
          4885,
          4885.5,
          4884.75,
          4885,
          4884.5,
          4885,
          4884.5,
          4884,
          4883.25,
          4883.25,
          4883.25,
          4883.25,
          4882.25,
          4882.75,
          4884,
          4882.75,
          4882.75,
          4883,
          4882.75,
          4883.5,
          4882.5,
          4882.5,
          4882.25,
          4882.75,
          4882.25,
          4884,
          4887,
          4886.5,
          4884.75,
          4882.75,
          4881.25,
          4881.75,
          4884.25,
          4884.75
         ],
         "low": [
          4887,
          4886.75,
          4887.5,
          4887.5,
          4887.5,
          4887.25,
          4887,
          4887,
          4886.75,
          4887,
          4886.75,
          4886.75,
          4888.5,
          4888.25,
          4889.25,
          4889,
          4890.5,
          4891.25,
          4891.25,
          4891.25,
          4890.75,
          4890.75,
          4890.75,
          4890.75,
          4890.75,
          4890.5,
          4890.5,
          4890.5,
          4890,
          4889.5,
          4889.25,
          4890,
          4889.75,
          4889.75,
          4890.25,
          4890.5,
          4890.5,
          4890.25,
          4890.75,
          4890.75,
          4891,
          4890.75,
          4890.5,
          4890.25,
          4890.25,
          4890.25,
          4890,
          4890,
          4890.5,
          4890,
          4890,
          4890,
          4889.25,
          4888.25,
          4888.5,
          4888.25,
          4888,
          4888,
          4888,
          4888.25,
          4887.25,
          4886.75,
          4886,
          4885.25,
          4884,
          4884,
          4884.25,
          4885,
          4884.5,
          4884.5,
          4884.25,
          4884.25,
          4884,
          4882.75,
          4882.5,
          4882.5,
          4882.75,
          4881.5,
          4881,
          4881.75,
          4882.75,
          4882.5,
          4882.25,
          4882.5,
          4882,
          4881.75,
          4882.25,
          4882,
          4881.5,
          4881.5,
          4882.25,
          4882,
          4884,
          4884.75,
          4883.5,
          4881,
          4880.25,
          4880.75,
          4881,
          4883
         ],
         "open": [
          4888,
          4887.25,
          4887.75,
          4887.5,
          4889.75,
          4887.75,
          4887.5,
          4887.5,
          4887.5,
          4887,
          4886.75,
          4887,
          4889.25,
          4888.75,
          4889.25,
          4889,
          4890.5,
          4891.25,
          4891.25,
          4891.25,
          4891.25,
          4890.75,
          4891,
          4891,
          4890.75,
          4890.75,
          4890.5,
          4890.75,
          4890.75,
          4889.75,
          4889.75,
          4890.75,
          4890,
          4889.75,
          4890.25,
          4890.5,
          4890.5,
          4890.25,
          4890.75,
          4890.75,
          4891,
          4891.25,
          4891,
          4890.75,
          4890.5,
          4890.5,
          4890,
          4890,
          4890.5,
          4890.5,
          4890.25,
          4890.25,
          4890,
          4889,
          4889,
          4888.25,
          4888.5,
          4888,
          4888,
          4888.25,
          4888.25,
          4887,
          4887,
          4885.75,
          4885.75,
          4884,
          4884.5,
          4885.5,
          4884.75,
          4885,
          4884.5,
          4884.5,
          4884.25,
          4884,
          4882.75,
          4883.25,
          4882.75,
          4883,
          4881.75,
          4881.75,
          4883,
          4882.75,
          4882.25,
          4882.5,
          4882.75,
          4882,
          4882.5,
          4882.25,
          4882,
          4881.5,
          4882.25,
          4882,
          4884,
          4886.5,
          4884.75,
          4882.75,
          4881.25,
          4881,
          4881,
          4884.5
         ],
         "type": "candlestick",
         "x": [
          "2017-01-02T18:01:00-05:00",
          "2017-01-02T18:02:00-05:00",
          "2017-01-02T18:03:00-05:00",
          "2017-01-02T18:04:00-05:00",
          "2017-01-02T18:05:00-05:00",
          "2017-01-02T18:06:00-05:00",
          "2017-01-02T18:07:00-05:00",
          "2017-01-02T18:08:00-05:00",
          "2017-01-02T18:09:00-05:00",
          "2017-01-02T18:10:00-05:00",
          "2017-01-02T18:11:00-05:00",
          "2017-01-02T18:12:00-05:00",
          "2017-01-02T18:13:00-05:00",
          "2017-01-02T18:14:00-05:00",
          "2017-01-02T18:15:00-05:00",
          "2017-01-02T18:16:00-05:00",
          "2017-01-02T18:17:00-05:00",
          "2017-01-02T18:18:00-05:00",
          "2017-01-02T18:19:00-05:00",
          "2017-01-02T18:20:00-05:00",
          "2017-01-02T18:21:00-05:00",
          "2017-01-02T18:22:00-05:00",
          "2017-01-02T18:23:00-05:00",
          "2017-01-02T18:24:00-05:00",
          "2017-01-02T18:25:00-05:00",
          "2017-01-02T18:26:00-05:00",
          "2017-01-02T18:27:00-05:00",
          "2017-01-02T18:28:00-05:00",
          "2017-01-02T18:29:00-05:00",
          "2017-01-02T18:30:00-05:00",
          "2017-01-02T18:31:00-05:00",
          "2017-01-02T18:32:00-05:00",
          "2017-01-02T18:33:00-05:00",
          "2017-01-02T18:34:00-05:00",
          "2017-01-02T18:35:00-05:00",
          "2017-01-02T18:36:00-05:00",
          "2017-01-02T18:37:00-05:00",
          "2017-01-02T18:38:00-05:00",
          "2017-01-02T18:39:00-05:00",
          "2017-01-02T18:40:00-05:00",
          "2017-01-02T18:41:00-05:00",
          "2017-01-02T18:42:00-05:00",
          "2017-01-02T18:43:00-05:00",
          "2017-01-02T18:44:00-05:00",
          "2017-01-02T18:45:00-05:00",
          "2017-01-02T18:46:00-05:00",
          "2017-01-02T18:47:00-05:00",
          "2017-01-02T18:48:00-05:00",
          "2017-01-02T18:49:00-05:00",
          "2017-01-02T18:50:00-05:00",
          "2017-01-02T18:51:00-05:00",
          "2017-01-02T18:52:00-05:00",
          "2017-01-02T18:53:00-05:00",
          "2017-01-02T18:54:00-05:00",
          "2017-01-02T18:55:00-05:00",
          "2017-01-02T18:56:00-05:00",
          "2017-01-02T18:57:00-05:00",
          "2017-01-02T18:58:00-05:00",
          "2017-01-02T18:59:00-05:00",
          "2017-01-02T19:00:00-05:00",
          "2017-01-02T19:01:00-05:00",
          "2017-01-02T19:02:00-05:00",
          "2017-01-02T19:03:00-05:00",
          "2017-01-02T19:04:00-05:00",
          "2017-01-02T19:05:00-05:00",
          "2017-01-02T19:06:00-05:00",
          "2017-01-02T19:07:00-05:00",
          "2017-01-02T19:08:00-05:00",
          "2017-01-02T19:09:00-05:00",
          "2017-01-02T19:10:00-05:00",
          "2017-01-02T19:11:00-05:00",
          "2017-01-02T19:12:00-05:00",
          "2017-01-02T19:13:00-05:00",
          "2017-01-02T19:14:00-05:00",
          "2017-01-02T19:15:00-05:00",
          "2017-01-02T19:16:00-05:00",
          "2017-01-02T19:17:00-05:00",
          "2017-01-02T19:18:00-05:00",
          "2017-01-02T19:19:00-05:00",
          "2017-01-02T19:20:00-05:00",
          "2017-01-02T19:21:00-05:00",
          "2017-01-02T19:22:00-05:00",
          "2017-01-02T19:23:00-05:00",
          "2017-01-02T19:24:00-05:00",
          "2017-01-02T19:25:00-05:00",
          "2017-01-02T19:26:00-05:00",
          "2017-01-02T19:27:00-05:00",
          "2017-01-02T19:28:00-05:00",
          "2017-01-02T19:29:00-05:00",
          "2017-01-02T19:30:00-05:00",
          "2017-01-02T19:31:00-05:00",
          "2017-01-02T19:32:00-05:00",
          "2017-01-02T19:33:00-05:00",
          "2017-01-02T19:34:00-05:00",
          "2017-01-02T19:35:00-05:00",
          "2017-01-02T19:36:00-05:00",
          "2017-01-02T19:37:00-05:00",
          "2017-01-02T19:38:00-05:00",
          "2017-01-02T19:39:00-05:00",
          "2017-01-02T19:40:00-05:00"
         ]
        }
       ],
       "layout": {
        "template": {
         "data": {
          "bar": [
           {
            "error_x": {
             "color": "#2a3f5f"
            },
            "error_y": {
             "color": "#2a3f5f"
            },
            "marker": {
             "line": {
              "color": "#E5ECF6",
              "width": 0.5
             },
             "pattern": {
              "fillmode": "overlay",
              "size": 10,
              "solidity": 0.2
             }
            },
            "type": "bar"
           }
          ],
          "barpolar": [
           {
            "marker": {
             "line": {
              "color": "#E5ECF6",
              "width": 0.5
             },
             "pattern": {
              "fillmode": "overlay",
              "size": 10,
              "solidity": 0.2
             }
            },
            "type": "barpolar"
           }
          ],
          "carpet": [
           {
            "aaxis": {
             "endlinecolor": "#2a3f5f",
             "gridcolor": "white",
             "linecolor": "white",
             "minorgridcolor": "white",
             "startlinecolor": "#2a3f5f"
            },
            "baxis": {
             "endlinecolor": "#2a3f5f",
             "gridcolor": "white",
             "linecolor": "white",
             "minorgridcolor": "white",
             "startlinecolor": "#2a3f5f"
            },
            "type": "carpet"
           }
          ],
          "choropleth": [
           {
            "colorbar": {
             "outlinewidth": 0,
             "ticks": ""
            },
            "type": "choropleth"
           }
          ],
          "contour": [
           {
            "colorbar": {
             "outlinewidth": 0,
             "ticks": ""
            },
            "colorscale": [
             [
              0,
              "#0d0887"
             ],
             [
              0.1111111111111111,
              "#46039f"
             ],
             [
              0.2222222222222222,
              "#7201a8"
             ],
             [
              0.3333333333333333,
              "#9c179e"
             ],
             [
              0.4444444444444444,
              "#bd3786"
             ],
             [
              0.5555555555555556,
              "#d8576b"
             ],
             [
              0.6666666666666666,
              "#ed7953"
             ],
             [
              0.7777777777777778,
              "#fb9f3a"
             ],
             [
              0.8888888888888888,
              "#fdca26"
             ],
             [
              1,
              "#f0f921"
             ]
            ],
            "type": "contour"
           }
          ],
          "contourcarpet": [
           {
            "colorbar": {
             "outlinewidth": 0,
             "ticks": ""
            },
            "type": "contourcarpet"
           }
          ],
          "heatmap": [
           {
            "colorbar": {
             "outlinewidth": 0,
             "ticks": ""
            },
            "colorscale": [
             [
              0,
              "#0d0887"
             ],
             [
              0.1111111111111111,
              "#46039f"
             ],
             [
              0.2222222222222222,
              "#7201a8"
             ],
             [
              0.3333333333333333,
              "#9c179e"
             ],
             [
              0.4444444444444444,
              "#bd3786"
             ],
             [
              0.5555555555555556,
              "#d8576b"
             ],
             [
              0.6666666666666666,
              "#ed7953"
             ],
             [
              0.7777777777777778,
              "#fb9f3a"
             ],
             [
              0.8888888888888888,
              "#fdca26"
             ],
             [
              1,
              "#f0f921"
             ]
            ],
            "type": "heatmap"
           }
          ],
          "heatmapgl": [
           {
            "colorbar": {
             "outlinewidth": 0,
             "ticks": ""
            },
            "colorscale": [
             [
              0,
              "#0d0887"
             ],
             [
              0.1111111111111111,
              "#46039f"
             ],
             [
              0.2222222222222222,
              "#7201a8"
             ],
             [
              0.3333333333333333,
              "#9c179e"
             ],
             [
              0.4444444444444444,
              "#bd3786"
             ],
             [
              0.5555555555555556,
              "#d8576b"
             ],
             [
              0.6666666666666666,
              "#ed7953"
             ],
             [
              0.7777777777777778,
              "#fb9f3a"
             ],
             [
              0.8888888888888888,
              "#fdca26"
             ],
             [
              1,
              "#f0f921"
             ]
            ],
            "type": "heatmapgl"
           }
          ],
          "histogram": [
           {
            "marker": {
             "pattern": {
              "fillmode": "overlay",
              "size": 10,
              "solidity": 0.2
             }
            },
            "type": "histogram"
           }
          ],
          "histogram2d": [
           {
            "colorbar": {
             "outlinewidth": 0,
             "ticks": ""
            },
            "colorscale": [
             [
              0,
              "#0d0887"
             ],
             [
              0.1111111111111111,
              "#46039f"
             ],
             [
              0.2222222222222222,
              "#7201a8"
             ],
             [
              0.3333333333333333,
              "#9c179e"
             ],
             [
              0.4444444444444444,
              "#bd3786"
             ],
             [
              0.5555555555555556,
              "#d8576b"
             ],
             [
              0.6666666666666666,
              "#ed7953"
             ],
             [
              0.7777777777777778,
              "#fb9f3a"
             ],
             [
              0.8888888888888888,
              "#fdca26"
             ],
             [
              1,
              "#f0f921"
             ]
            ],
            "type": "histogram2d"
           }
          ],
          "histogram2dcontour": [
           {
            "colorbar": {
             "outlinewidth": 0,
             "ticks": ""
            },
            "colorscale": [
             [
              0,
              "#0d0887"
             ],
             [
              0.1111111111111111,
              "#46039f"
             ],
             [
              0.2222222222222222,
              "#7201a8"
             ],
             [
              0.3333333333333333,
              "#9c179e"
             ],
             [
              0.4444444444444444,
              "#bd3786"
             ],
             [
              0.5555555555555556,
              "#d8576b"
             ],
             [
              0.6666666666666666,
              "#ed7953"
             ],
             [
              0.7777777777777778,
              "#fb9f3a"
             ],
             [
              0.8888888888888888,
              "#fdca26"
             ],
             [
              1,
              "#f0f921"
             ]
            ],
            "type": "histogram2dcontour"
           }
          ],
          "mesh3d": [
           {
            "colorbar": {
             "outlinewidth": 0,
             "ticks": ""
            },
            "type": "mesh3d"
           }
          ],
          "parcoords": [
           {
            "line": {
             "colorbar": {
              "outlinewidth": 0,
              "ticks": ""
             }
            },
            "type": "parcoords"
           }
          ],
          "pie": [
           {
            "automargin": true,
            "type": "pie"
           }
          ],
          "scatter": [
           {
            "fillpattern": {
             "fillmode": "overlay",
             "size": 10,
             "solidity": 0.2
            },
            "type": "scatter"
           }
          ],
          "scatter3d": [
           {
            "line": {
             "colorbar": {
              "outlinewidth": 0,
              "ticks": ""
             }
            },
            "marker": {
             "colorbar": {
              "outlinewidth": 0,
              "ticks": ""
             }
            },
            "type": "scatter3d"
           }
          ],
          "scattercarpet": [
           {
            "marker": {
             "colorbar": {
              "outlinewidth": 0,
              "ticks": ""
             }
            },
            "type": "scattercarpet"
           }
          ],
          "scattergeo": [
           {
            "marker": {
             "colorbar": {
              "outlinewidth": 0,
              "ticks": ""
             }
            },
            "type": "scattergeo"
           }
          ],
          "scattergl": [
           {
            "marker": {
             "colorbar": {
              "outlinewidth": 0,
              "ticks": ""
             }
            },
            "type": "scattergl"
           }
          ],
          "scattermapbox": [
           {
            "marker": {
             "colorbar": {
              "outlinewidth": 0,
              "ticks": ""
             }
            },
            "type": "scattermapbox"
           }
          ],
          "scatterpolar": [
           {
            "marker": {
             "colorbar": {
              "outlinewidth": 0,
              "ticks": ""
             }
            },
            "type": "scatterpolar"
           }
          ],
          "scatterpolargl": [
           {
            "marker": {
             "colorbar": {
              "outlinewidth": 0,
              "ticks": ""
             }
            },
            "type": "scatterpolargl"
           }
          ],
          "scatterternary": [
           {
            "marker": {
             "colorbar": {
              "outlinewidth": 0,
              "ticks": ""
             }
            },
            "type": "scatterternary"
           }
          ],
          "surface": [
           {
            "colorbar": {
             "outlinewidth": 0,
             "ticks": ""
            },
            "colorscale": [
             [
              0,
              "#0d0887"
             ],
             [
              0.1111111111111111,
              "#46039f"
             ],
             [
              0.2222222222222222,
              "#7201a8"
             ],
             [
              0.3333333333333333,
              "#9c179e"
             ],
             [
              0.4444444444444444,
              "#bd3786"
             ],
             [
              0.5555555555555556,
              "#d8576b"
             ],
             [
              0.6666666666666666,
              "#ed7953"
             ],
             [
              0.7777777777777778,
              "#fb9f3a"
             ],
             [
              0.8888888888888888,
              "#fdca26"
             ],
             [
              1,
              "#f0f921"
             ]
            ],
            "type": "surface"
           }
          ],
          "table": [
           {
            "cells": {
             "fill": {
              "color": "#EBF0F8"
             },
             "line": {
              "color": "white"
             }
            },
            "header": {
             "fill": {
              "color": "#C8D4E3"
             },
             "line": {
              "color": "white"
             }
            },
            "type": "table"
           }
          ]
         },
         "layout": {
          "annotationdefaults": {
           "arrowcolor": "#2a3f5f",
           "arrowhead": 0,
           "arrowwidth": 1
          },
          "autotypenumbers": "strict",
          "coloraxis": {
           "colorbar": {
            "outlinewidth": 0,
            "ticks": ""
           }
          },
          "colorscale": {
           "diverging": [
            [
             0,
             "#8e0152"
            ],
            [
             0.1,
             "#c51b7d"
            ],
            [
             0.2,
             "#de77ae"
            ],
            [
             0.3,
             "#f1b6da"
            ],
            [
             0.4,
             "#fde0ef"
            ],
            [
             0.5,
             "#f7f7f7"
            ],
            [
             0.6,
             "#e6f5d0"
            ],
            [
             0.7,
             "#b8e186"
            ],
            [
             0.8,
             "#7fbc41"
            ],
            [
             0.9,
             "#4d9221"
            ],
            [
             1,
             "#276419"
            ]
           ],
           "sequential": [
            [
             0,
             "#0d0887"
            ],
            [
             0.1111111111111111,
             "#46039f"
            ],
            [
             0.2222222222222222,
             "#7201a8"
            ],
            [
             0.3333333333333333,
             "#9c179e"
            ],
            [
             0.4444444444444444,
             "#bd3786"
            ],
            [
             0.5555555555555556,
             "#d8576b"
            ],
            [
             0.6666666666666666,
             "#ed7953"
            ],
            [
             0.7777777777777778,
             "#fb9f3a"
            ],
            [
             0.8888888888888888,
             "#fdca26"
            ],
            [
             1,
             "#f0f921"
            ]
           ],
           "sequentialminus": [
            [
             0,
             "#0d0887"
            ],
            [
             0.1111111111111111,
             "#46039f"
            ],
            [
             0.2222222222222222,
             "#7201a8"
            ],
            [
             0.3333333333333333,
             "#9c179e"
            ],
            [
             0.4444444444444444,
             "#bd3786"
            ],
            [
             0.5555555555555556,
             "#d8576b"
            ],
            [
             0.6666666666666666,
             "#ed7953"
            ],
            [
             0.7777777777777778,
             "#fb9f3a"
            ],
            [
             0.8888888888888888,
             "#fdca26"
            ],
            [
             1,
             "#f0f921"
            ]
           ]
          },
          "colorway": [
           "#636efa",
           "#EF553B",
           "#00cc96",
           "#ab63fa",
           "#FFA15A",
           "#19d3f3",
           "#FF6692",
           "#B6E880",
           "#FF97FF",
           "#FECB52"
          ],
          "font": {
           "color": "#2a3f5f"
          },
          "geo": {
           "bgcolor": "white",
           "lakecolor": "white",
           "landcolor": "#E5ECF6",
           "showlakes": true,
           "showland": true,
           "subunitcolor": "white"
          },
          "hoverlabel": {
           "align": "left"
          },
          "hovermode": "closest",
          "mapbox": {
           "style": "light"
          },
          "paper_bgcolor": "white",
          "plot_bgcolor": "#E5ECF6",
          "polar": {
           "angularaxis": {
            "gridcolor": "white",
            "linecolor": "white",
            "ticks": ""
           },
           "bgcolor": "#E5ECF6",
           "radialaxis": {
            "gridcolor": "white",
            "linecolor": "white",
            "ticks": ""
           }
          },
          "scene": {
           "xaxis": {
            "backgroundcolor": "#E5ECF6",
            "gridcolor": "white",
            "gridwidth": 2,
            "linecolor": "white",
            "showbackground": true,
            "ticks": "",
            "zerolinecolor": "white"
           },
           "yaxis": {
            "backgroundcolor": "#E5ECF6",
            "gridcolor": "white",
            "gridwidth": 2,
            "linecolor": "white",
            "showbackground": true,
            "ticks": "",
            "zerolinecolor": "white"
           },
           "zaxis": {
            "backgroundcolor": "#E5ECF6",
            "gridcolor": "white",
            "gridwidth": 2,
            "linecolor": "white",
            "showbackground": true,
            "ticks": "",
            "zerolinecolor": "white"
           }
          },
          "shapedefaults": {
           "line": {
            "color": "#2a3f5f"
           }
          },
          "ternary": {
           "aaxis": {
            "gridcolor": "white",
            "linecolor": "white",
            "ticks": ""
           },
           "baxis": {
            "gridcolor": "white",
            "linecolor": "white",
            "ticks": ""
           },
           "bgcolor": "#E5ECF6",
           "caxis": {
            "gridcolor": "white",
            "linecolor": "white",
            "ticks": ""
           }
          },
          "title": {
           "x": 0.05
          },
          "xaxis": {
           "automargin": true,
           "gridcolor": "white",
           "linecolor": "white",
           "ticks": "",
           "title": {
            "standoff": 15
           },
           "zerolinecolor": "white",
           "zerolinewidth": 2
          },
          "yaxis": {
           "automargin": true,
           "gridcolor": "white",
           "linecolor": "white",
           "ticks": "",
           "title": {
            "standoff": 15
           },
           "zerolinecolor": "white",
           "zerolinewidth": 2
          }
         }
        },
        "xaxis": {
         "rangeslider": {
          "visible": false
         }
        }
       }
      }
     },
     "metadata": {},
     "output_type": "display_data"
    },
    {
     "data": {
      "application/vnd.plotly.v1+json": {
       "config": {
        "plotlyServerURL": "https://plot.ly"
       },
       "data": [
        {
         "close": [
          4886.5,
          4887,
          4887.5,
          4888,
          4887,
          4887.5,
          4888,
          4888.5,
          4888,
          4888,
          4888.5,
          4889.75,
          4889.25,
          4889.75,
          4889.75,
          4891.25,
          4893.5,
          4893.5,
          4894,
          4894.5,
          4893.25,
          4893.75,
          4893.25,
          4893,
          4893.5,
          4893.5,
          4893.5,
          4893.5,
          4891.25,
          4891.25,
          4893.5,
          4893,
          4893,
          4893.5,
          4894.5,
          4894.5,
          4894.5,
          4896,
          4896,
          4896.5,
          4897.5,
          4896.75,
          4895.5,
          4894.25,
          4894,
          4893.75,
          4893.75,
          4894.25,
          4895.25,
          4894,
          4893.75,
          4893.75,
          4892.5,
          4892.5,
          4892,
          4892.5,
          4891.75,
          4891.75,
          4891.75,
          4892.75,
          4891.5,
          4891.5,
          4890.5,
          4888.5,
          4886.25,
          4886.75,
          4888.75,
          4888.25,
          4888.25,
          4888,
          4888,
          4887.75,
          4886.5,
          4885.5,
          4887,
          4886.75,
          4887,
          4885.75,
          4886.25,
          4887.25,
          4887.75,
          4886.75,
          4887,
          4888,
          4886,
          4886.75,
          4886.25,
          4886.75,
          4884.75,
          4886,
          4886,
          4887.375,
          4888.375,
          4887.875,
          4886.875,
          4884.875,
          4882.875,
          4882.875,
          4883.875,
          4883.375
         ],
         "high": [
          4888.25,
          4887.5,
          4887.75,
          4888,
          4888.25,
          4888,
          4888.5,
          4889,
          4889,
          4888.25,
          4888.75,
          4890,
          4889.75,
          4890.25,
          4890.25,
          4891.25,
          4894,
          4893.75,
          4894.5,
          4894.5,
          4894.75,
          4893.75,
          4894,
          4893.25,
          4893.5,
          4893.75,
          4893.75,
          4893.75,
          4893.75,
          4891.5,
          4893.75,
          4893.5,
          4893.25,
          4893.5,
          4894.5,
          4894.5,
          4894.5,
          4896,
          4896,
          4896.5,
          4897.5,
          4898.75,
          4897,
          4895.5,
          4894.25,
          4894,
          4893.75,
          4894.25,
          4895.25,
          4895.5,
          4894,
          4894,
          4893.75,
          4892.75,
          4892.5,
          4892.5,
          4892.75,
          4892,
          4891.75,
          4892.75,
          4893,
          4891.75,
          4891.5,
          4890.5,
          4889,
          4887,
          4889.25,
          4888.75,
          4888.5,
          4888.25,
          4888.25,
          4888.5,
          4888,
          4886.5,
          4887,
          4887,
          4887,
          4887.25,
          4886.75,
          4887.25,
          4888.75,
          4887.75,
          4887,
          4888,
          4888,
          4887.5,
          4886.75,
          4887,
          4886.75,
          4886.25,
          4886,
          4887.375,
          4888.375,
          4888.375,
          4887.875,
          4886.875,
          4884.875,
          4883.375,
          4883.875,
          4884.875
         ],
         "low": [
          4886.25,
          4885.25,
          4886.75,
          4887.5,
          4886.75,
          4885.75,
          4886.25,
          4887.5,
          4887,
          4887.75,
          4887.75,
          4888.25,
          4889.25,
          4888.75,
          4889.5,
          4889.75,
          4891,
          4893.25,
          4893,
          4894,
          4892.5,
          4893.25,
          4893,
          4893,
          4893,
          4893.25,
          4893.25,
          4893.25,
          4890.75,
          4890.75,
          4890.75,
          4893,
          4892.5,
          4893,
          4893.5,
          4894.5,
          4894.5,
          4894.5,
          4896,
          4896,
          4896.5,
          4895.75,
          4894.75,
          4894.25,
          4894,
          4893.75,
          4893.75,
          4893.75,
          4894.25,
          4893.25,
          4893.75,
          4893.5,
          4892.5,
          4892,
          4892,
          4892,
          4891.5,
          4891.5,
          4891.75,
          4891.75,
          4891.25,
          4891,
          4890.5,
          4888,
          4886,
          4886,
          4886.75,
          4888.25,
          4887.75,
          4888,
          4887.5,
          4887.25,
          4885.75,
          4885.5,
          4885.25,
          4886.75,
          4886.75,
          4885.5,
          4884.75,
          4886.25,
          4886.75,
          4886.75,
          4886.75,
          4887,
          4885.5,
          4884.75,
          4886.25,
          4886,
          4884.25,
          4884.5,
          4886,
          4886,
          4887.375,
          4887.875,
          4886.875,
          4884.375,
          4882.375,
          4882.625,
          4882.875,
          4883.125
         ],
         "open": [
          4888,
          4886.5,
          4887,
          4887.5,
          4888,
          4887,
          4887.5,
          4888,
          4888.5,
          4888,
          4888,
          4888.5,
          4889.75,
          4889.25,
          4889.75,
          4889.75,
          4891.25,
          4893.5,
          4893.5,
          4894,
          4894.5,
          4893.25,
          4893.75,
          4893.25,
          4893,
          4893.5,
          4893.5,
          4893.5,
          4893.5,
          4891.25,
          4891.25,
          4893.5,
          4893,
          4893,
          4893.5,
          4894.5,
          4894.5,
          4894.5,
          4896,
          4896,
          4896.5,
          4897.5,
          4896.75,
          4895.5,
          4894.25,
          4894,
          4893.75,
          4893.75,
          4894.25,
          4895.25,
          4894,
          4893.75,
          4893.75,
          4892.5,
          4892.5,
          4892,
          4892.5,
          4891.75,
          4891.75,
          4891.75,
          4892.75,
          4891.5,
          4891.5,
          4890.5,
          4888.5,
          4886.25,
          4886.75,
          4888.75,
          4888.25,
          4888.25,
          4888,
          4888,
          4887.75,
          4886.5,
          4885.5,
          4887,
          4886.75,
          4887,
          4885.75,
          4886.25,
          4887.25,
          4887.75,
          4886.75,
          4887,
          4888,
          4886,
          4886.75,
          4886.25,
          4886.75,
          4884.75,
          4886,
          4886,
          4887.375,
          4888.375,
          4887.875,
          4886.875,
          4884.875,
          4882.875,
          4882.875,
          4883.875
         ],
         "type": "candlestick",
         "x": [
          0,
          1,
          2,
          3,
          4,
          5,
          6,
          7,
          8,
          9,
          10,
          11,
          12,
          13,
          14,
          15,
          16,
          17,
          18,
          19,
          20,
          21,
          22,
          23,
          24,
          25,
          26,
          27,
          28,
          29,
          30,
          31,
          32,
          33,
          34,
          35,
          36,
          37,
          38,
          39,
          40,
          41,
          42,
          43,
          44,
          45,
          46,
          47,
          48,
          49,
          50,
          51,
          52,
          53,
          54,
          55,
          56,
          57,
          58,
          59,
          60,
          61,
          62,
          63,
          64,
          65,
          66,
          67,
          68,
          69,
          70,
          71,
          72,
          73,
          74,
          75,
          76,
          77,
          78,
          79,
          80,
          81,
          82,
          83,
          84,
          85,
          86,
          87,
          88,
          89,
          90,
          91,
          92,
          93,
          94,
          95,
          96,
          97,
          98,
          99
         ]
        },
        {
         "mode": "text",
         "text": [
          603,
          219,
          998,
          270,
          1040,
          219,
          219,
          604,
          127,
          361,
          998,
          431,
          348,
          873,
          245,
          1279,
          45,
          557,
          604,
          270,
          132,
          270,
          894,
          404,
          270,
          557,
          299,
          299,
          47,
          233,
          809,
          348,
          233,
          270,
          137,
          953,
          352,
          1279,
          953,
          270,
          137,
          843,
          132,
          138,
          404,
          404,
          1144,
          270,
          137,
          132,
          404,
          299,
          138,
          233,
          863,
          1200,
          722,
          299,
          352,
          142,
          482,
          229,
          147,
          53,
          746,
          394,
          46,
          1169,
          229,
          366,
          229,
          609,
          121,
          147,
          951,
          366,
          877,
          482,
          200,
          142,
          114,
          147,
          877,
          142,
          53,
          815,
          948,
          986,
          53,
          422,
          985,
          1288,
          142,
          948,
          147,
          53,
          53,
          215,
          142,
          208
         ],
         "type": "scatter",
         "x": [
          0,
          1,
          2,
          3,
          4,
          5,
          6,
          7,
          8,
          9,
          10,
          11,
          12,
          13,
          14,
          15,
          16,
          17,
          18,
          19,
          20,
          21,
          22,
          23,
          24,
          25,
          26,
          27,
          28,
          29,
          30,
          31,
          32,
          33,
          34,
          35,
          36,
          37,
          38,
          39,
          40,
          41,
          42,
          43,
          44,
          45,
          46,
          47,
          48,
          49,
          50,
          51,
          52,
          53,
          54,
          55,
          56,
          57,
          58,
          59,
          60,
          61,
          62,
          63,
          64,
          65,
          66,
          67,
          68,
          69,
          70,
          71,
          72,
          73,
          74,
          75,
          76,
          77,
          78,
          79,
          80,
          81,
          82,
          83,
          84,
          85,
          86,
          87,
          88,
          89,
          90,
          91,
          92,
          93,
          94,
          95,
          96,
          97,
          98,
          99
         ],
         "y": [
          4888.75,
          4888,
          4888.25,
          4888.5,
          4888.75,
          4888.5,
          4889,
          4889.5,
          4889.5,
          4888.75,
          4889.25,
          4890.5,
          4890.25,
          4890.75,
          4890.75,
          4891.75,
          4894.5,
          4894.25,
          4895,
          4895,
          4895.25,
          4894.25,
          4894.5,
          4893.75,
          4894,
          4894.25,
          4894.25,
          4894.25,
          4894.25,
          4892,
          4894.25,
          4894,
          4893.75,
          4894,
          4895,
          4895,
          4895,
          4896.5,
          4896.5,
          4897,
          4898,
          4899.25,
          4897.5,
          4896,
          4894.75,
          4894.5,
          4894.25,
          4894.75,
          4895.75,
          4896,
          4894.5,
          4894.5,
          4894.25,
          4893.25,
          4893,
          4893,
          4893.25,
          4892.5,
          4892.25,
          4893.25,
          4893.5,
          4892.25,
          4892,
          4891,
          4889.5,
          4887.5,
          4889.75,
          4889.25,
          4889,
          4888.75,
          4888.75,
          4889,
          4888.5,
          4887,
          4887.5,
          4887.5,
          4887.5,
          4887.75,
          4887.25,
          4887.75,
          4889.25,
          4888.25,
          4887.5,
          4888.5,
          4888.5,
          4888,
          4887.25,
          4887.5,
          4887.25,
          4886.75,
          4886.5,
          4887.875,
          4888.875,
          4888.875,
          4888.375,
          4887.375,
          4885.375,
          4883.875,
          4884.375,
          4885.375
         ]
        }
       ],
       "layout": {
        "template": {
         "data": {
          "bar": [
           {
            "error_x": {
             "color": "#2a3f5f"
            },
            "error_y": {
             "color": "#2a3f5f"
            },
            "marker": {
             "line": {
              "color": "#E5ECF6",
              "width": 0.5
             },
             "pattern": {
              "fillmode": "overlay",
              "size": 10,
              "solidity": 0.2
             }
            },
            "type": "bar"
           }
          ],
          "barpolar": [
           {
            "marker": {
             "line": {
              "color": "#E5ECF6",
              "width": 0.5
             },
             "pattern": {
              "fillmode": "overlay",
              "size": 10,
              "solidity": 0.2
             }
            },
            "type": "barpolar"
           }
          ],
          "carpet": [
           {
            "aaxis": {
             "endlinecolor": "#2a3f5f",
             "gridcolor": "white",
             "linecolor": "white",
             "minorgridcolor": "white",
             "startlinecolor": "#2a3f5f"
            },
            "baxis": {
             "endlinecolor": "#2a3f5f",
             "gridcolor": "white",
             "linecolor": "white",
             "minorgridcolor": "white",
             "startlinecolor": "#2a3f5f"
            },
            "type": "carpet"
           }
          ],
          "choropleth": [
           {
            "colorbar": {
             "outlinewidth": 0,
             "ticks": ""
            },
            "type": "choropleth"
           }
          ],
          "contour": [
           {
            "colorbar": {
             "outlinewidth": 0,
             "ticks": ""
            },
            "colorscale": [
             [
              0,
              "#0d0887"
             ],
             [
              0.1111111111111111,
              "#46039f"
             ],
             [
              0.2222222222222222,
              "#7201a8"
             ],
             [
              0.3333333333333333,
              "#9c179e"
             ],
             [
              0.4444444444444444,
              "#bd3786"
             ],
             [
              0.5555555555555556,
              "#d8576b"
             ],
             [
              0.6666666666666666,
              "#ed7953"
             ],
             [
              0.7777777777777778,
              "#fb9f3a"
             ],
             [
              0.8888888888888888,
              "#fdca26"
             ],
             [
              1,
              "#f0f921"
             ]
            ],
            "type": "contour"
           }
          ],
          "contourcarpet": [
           {
            "colorbar": {
             "outlinewidth": 0,
             "ticks": ""
            },
            "type": "contourcarpet"
           }
          ],
          "heatmap": [
           {
            "colorbar": {
             "outlinewidth": 0,
             "ticks": ""
            },
            "colorscale": [
             [
              0,
              "#0d0887"
             ],
             [
              0.1111111111111111,
              "#46039f"
             ],
             [
              0.2222222222222222,
              "#7201a8"
             ],
             [
              0.3333333333333333,
              "#9c179e"
             ],
             [
              0.4444444444444444,
              "#bd3786"
             ],
             [
              0.5555555555555556,
              "#d8576b"
             ],
             [
              0.6666666666666666,
              "#ed7953"
             ],
             [
              0.7777777777777778,
              "#fb9f3a"
             ],
             [
              0.8888888888888888,
              "#fdca26"
             ],
             [
              1,
              "#f0f921"
             ]
            ],
            "type": "heatmap"
           }
          ],
          "heatmapgl": [
           {
            "colorbar": {
             "outlinewidth": 0,
             "ticks": ""
            },
            "colorscale": [
             [
              0,
              "#0d0887"
             ],
             [
              0.1111111111111111,
              "#46039f"
             ],
             [
              0.2222222222222222,
              "#7201a8"
             ],
             [
              0.3333333333333333,
              "#9c179e"
             ],
             [
              0.4444444444444444,
              "#bd3786"
             ],
             [
              0.5555555555555556,
              "#d8576b"
             ],
             [
              0.6666666666666666,
              "#ed7953"
             ],
             [
              0.7777777777777778,
              "#fb9f3a"
             ],
             [
              0.8888888888888888,
              "#fdca26"
             ],
             [
              1,
              "#f0f921"
             ]
            ],
            "type": "heatmapgl"
           }
          ],
          "histogram": [
           {
            "marker": {
             "pattern": {
              "fillmode": "overlay",
              "size": 10,
              "solidity": 0.2
             }
            },
            "type": "histogram"
           }
          ],
          "histogram2d": [
           {
            "colorbar": {
             "outlinewidth": 0,
             "ticks": ""
            },
            "colorscale": [
             [
              0,
              "#0d0887"
             ],
             [
              0.1111111111111111,
              "#46039f"
             ],
             [
              0.2222222222222222,
              "#7201a8"
             ],
             [
              0.3333333333333333,
              "#9c179e"
             ],
             [
              0.4444444444444444,
              "#bd3786"
             ],
             [
              0.5555555555555556,
              "#d8576b"
             ],
             [
              0.6666666666666666,
              "#ed7953"
             ],
             [
              0.7777777777777778,
              "#fb9f3a"
             ],
             [
              0.8888888888888888,
              "#fdca26"
             ],
             [
              1,
              "#f0f921"
             ]
            ],
            "type": "histogram2d"
           }
          ],
          "histogram2dcontour": [
           {
            "colorbar": {
             "outlinewidth": 0,
             "ticks": ""
            },
            "colorscale": [
             [
              0,
              "#0d0887"
             ],
             [
              0.1111111111111111,
              "#46039f"
             ],
             [
              0.2222222222222222,
              "#7201a8"
             ],
             [
              0.3333333333333333,
              "#9c179e"
             ],
             [
              0.4444444444444444,
              "#bd3786"
             ],
             [
              0.5555555555555556,
              "#d8576b"
             ],
             [
              0.6666666666666666,
              "#ed7953"
             ],
             [
              0.7777777777777778,
              "#fb9f3a"
             ],
             [
              0.8888888888888888,
              "#fdca26"
             ],
             [
              1,
              "#f0f921"
             ]
            ],
            "type": "histogram2dcontour"
           }
          ],
          "mesh3d": [
           {
            "colorbar": {
             "outlinewidth": 0,
             "ticks": ""
            },
            "type": "mesh3d"
           }
          ],
          "parcoords": [
           {
            "line": {
             "colorbar": {
              "outlinewidth": 0,
              "ticks": ""
             }
            },
            "type": "parcoords"
           }
          ],
          "pie": [
           {
            "automargin": true,
            "type": "pie"
           }
          ],
          "scatter": [
           {
            "fillpattern": {
             "fillmode": "overlay",
             "size": 10,
             "solidity": 0.2
            },
            "type": "scatter"
           }
          ],
          "scatter3d": [
           {
            "line": {
             "colorbar": {
              "outlinewidth": 0,
              "ticks": ""
             }
            },
            "marker": {
             "colorbar": {
              "outlinewidth": 0,
              "ticks": ""
             }
            },
            "type": "scatter3d"
           }
          ],
          "scattercarpet": [
           {
            "marker": {
             "colorbar": {
              "outlinewidth": 0,
              "ticks": ""
             }
            },
            "type": "scattercarpet"
           }
          ],
          "scattergeo": [
           {
            "marker": {
             "colorbar": {
              "outlinewidth": 0,
              "ticks": ""
             }
            },
            "type": "scattergeo"
           }
          ],
          "scattergl": [
           {
            "marker": {
             "colorbar": {
              "outlinewidth": 0,
              "ticks": ""
             }
            },
            "type": "scattergl"
           }
          ],
          "scattermapbox": [
           {
            "marker": {
             "colorbar": {
              "outlinewidth": 0,
              "ticks": ""
             }
            },
            "type": "scattermapbox"
           }
          ],
          "scatterpolar": [
           {
            "marker": {
             "colorbar": {
              "outlinewidth": 0,
              "ticks": ""
             }
            },
            "type": "scatterpolar"
           }
          ],
          "scatterpolargl": [
           {
            "marker": {
             "colorbar": {
              "outlinewidth": 0,
              "ticks": ""
             }
            },
            "type": "scatterpolargl"
           }
          ],
          "scatterternary": [
           {
            "marker": {
             "colorbar": {
              "outlinewidth": 0,
              "ticks": ""
             }
            },
            "type": "scatterternary"
           }
          ],
          "surface": [
           {
            "colorbar": {
             "outlinewidth": 0,
             "ticks": ""
            },
            "colorscale": [
             [
              0,
              "#0d0887"
             ],
             [
              0.1111111111111111,
              "#46039f"
             ],
             [
              0.2222222222222222,
              "#7201a8"
             ],
             [
              0.3333333333333333,
              "#9c179e"
             ],
             [
              0.4444444444444444,
              "#bd3786"
             ],
             [
              0.5555555555555556,
              "#d8576b"
             ],
             [
              0.6666666666666666,
              "#ed7953"
             ],
             [
              0.7777777777777778,
              "#fb9f3a"
             ],
             [
              0.8888888888888888,
              "#fdca26"
             ],
             [
              1,
              "#f0f921"
             ]
            ],
            "type": "surface"
           }
          ],
          "table": [
           {
            "cells": {
             "fill": {
              "color": "#EBF0F8"
             },
             "line": {
              "color": "white"
             }
            },
            "header": {
             "fill": {
              "color": "#C8D4E3"
             },
             "line": {
              "color": "white"
             }
            },
            "type": "table"
           }
          ]
         },
         "layout": {
          "annotationdefaults": {
           "arrowcolor": "#2a3f5f",
           "arrowhead": 0,
           "arrowwidth": 1
          },
          "autotypenumbers": "strict",
          "coloraxis": {
           "colorbar": {
            "outlinewidth": 0,
            "ticks": ""
           }
          },
          "colorscale": {
           "diverging": [
            [
             0,
             "#8e0152"
            ],
            [
             0.1,
             "#c51b7d"
            ],
            [
             0.2,
             "#de77ae"
            ],
            [
             0.3,
             "#f1b6da"
            ],
            [
             0.4,
             "#fde0ef"
            ],
            [
             0.5,
             "#f7f7f7"
            ],
            [
             0.6,
             "#e6f5d0"
            ],
            [
             0.7,
             "#b8e186"
            ],
            [
             0.8,
             "#7fbc41"
            ],
            [
             0.9,
             "#4d9221"
            ],
            [
             1,
             "#276419"
            ]
           ],
           "sequential": [
            [
             0,
             "#0d0887"
            ],
            [
             0.1111111111111111,
             "#46039f"
            ],
            [
             0.2222222222222222,
             "#7201a8"
            ],
            [
             0.3333333333333333,
             "#9c179e"
            ],
            [
             0.4444444444444444,
             "#bd3786"
            ],
            [
             0.5555555555555556,
             "#d8576b"
            ],
            [
             0.6666666666666666,
             "#ed7953"
            ],
            [
             0.7777777777777778,
             "#fb9f3a"
            ],
            [
             0.8888888888888888,
             "#fdca26"
            ],
            [
             1,
             "#f0f921"
            ]
           ],
           "sequentialminus": [
            [
             0,
             "#0d0887"
            ],
            [
             0.1111111111111111,
             "#46039f"
            ],
            [
             0.2222222222222222,
             "#7201a8"
            ],
            [
             0.3333333333333333,
             "#9c179e"
            ],
            [
             0.4444444444444444,
             "#bd3786"
            ],
            [
             0.5555555555555556,
             "#d8576b"
            ],
            [
             0.6666666666666666,
             "#ed7953"
            ],
            [
             0.7777777777777778,
             "#fb9f3a"
            ],
            [
             0.8888888888888888,
             "#fdca26"
            ],
            [
             1,
             "#f0f921"
            ]
           ]
          },
          "colorway": [
           "#636efa",
           "#EF553B",
           "#00cc96",
           "#ab63fa",
           "#FFA15A",
           "#19d3f3",
           "#FF6692",
           "#B6E880",
           "#FF97FF",
           "#FECB52"
          ],
          "font": {
           "color": "#2a3f5f"
          },
          "geo": {
           "bgcolor": "white",
           "lakecolor": "white",
           "landcolor": "#E5ECF6",
           "showlakes": true,
           "showland": true,
           "subunitcolor": "white"
          },
          "hoverlabel": {
           "align": "left"
          },
          "hovermode": "closest",
          "mapbox": {
           "style": "light"
          },
          "paper_bgcolor": "white",
          "plot_bgcolor": "#E5ECF6",
          "polar": {
           "angularaxis": {
            "gridcolor": "white",
            "linecolor": "white",
            "ticks": ""
           },
           "bgcolor": "#E5ECF6",
           "radialaxis": {
            "gridcolor": "white",
            "linecolor": "white",
            "ticks": ""
           }
          },
          "scene": {
           "xaxis": {
            "backgroundcolor": "#E5ECF6",
            "gridcolor": "white",
            "gridwidth": 2,
            "linecolor": "white",
            "showbackground": true,
            "ticks": "",
            "zerolinecolor": "white"
           },
           "yaxis": {
            "backgroundcolor": "#E5ECF6",
            "gridcolor": "white",
            "gridwidth": 2,
            "linecolor": "white",
            "showbackground": true,
            "ticks": "",
            "zerolinecolor": "white"
           },
           "zaxis": {
            "backgroundcolor": "#E5ECF6",
            "gridcolor": "white",
            "gridwidth": 2,
            "linecolor": "white",
            "showbackground": true,
            "ticks": "",
            "zerolinecolor": "white"
           }
          },
          "shapedefaults": {
           "line": {
            "color": "#2a3f5f"
           }
          },
          "ternary": {
           "aaxis": {
            "gridcolor": "white",
            "linecolor": "white",
            "ticks": ""
           },
           "baxis": {
            "gridcolor": "white",
            "linecolor": "white",
            "ticks": ""
           },
           "bgcolor": "#E5ECF6",
           "caxis": {
            "gridcolor": "white",
            "linecolor": "white",
            "ticks": ""
           }
          },
          "title": {
           "x": 0.05
          },
          "xaxis": {
           "automargin": true,
           "gridcolor": "white",
           "linecolor": "white",
           "ticks": "",
           "title": {
            "standoff": 15
           },
           "zerolinecolor": "white",
           "zerolinewidth": 2
          },
          "yaxis": {
           "automargin": true,
           "gridcolor": "white",
           "linecolor": "white",
           "ticks": "",
           "title": {
            "standoff": 15
           },
           "zerolinecolor": "white",
           "zerolinewidth": 2
          }
         }
        },
        "xaxis": {
         "rangeslider": {
          "visible": false
         }
        }
       }
      }
     },
     "metadata": {},
     "output_type": "display_data"
    }
   ],
   "source": [
    "#plot original and restored candles using plotly\n",
    "import plotly.graph_objects as go\n",
    "import plotly.express as px\n",
    "\n",
    "original_candles = df[['open', 'high','low','close']].iloc[:restored_df.shape[0]]\n",
    "\n",
    "fig = go.Figure(data=[go.Candlestick(x=original_candles.index,\n",
    "                open=original_candles['open'],\n",
    "                high=original_candles['high'],\n",
    "                low=original_candles['low'],\n",
    "                close=original_candles['close'])])\n",
    "\n",
    "\n",
    "fig.update_layout(xaxis_rangeslider_visible=False)\n",
    "fig.show()\n",
    "\n",
    "fig = go.Figure(data=[go.Candlestick(x=restored_df.index,\n",
    "                open=restored_df['open'],\n",
    "                high=restored_df['high'],\n",
    "                low=restored_df['low'],\n",
    "                close=restored_df['close'])])\n",
    "fig.update_layout(xaxis_rangeslider_visible=False)\n",
    "# add text lable witn cluster number above each candle\n",
    "fig.add_trace(go.Scatter(x=restored_df.index, y=restored_df['high'] + 0.5, text=df['cluster'].values[:restored_df.shape[0]], mode=\"text\"))\n",
    "\n",
    "fig.show()\n",
    "\n",
    "\n"
   ]
  },
  {
   "cell_type": "code",
   "execution_count": 12,
   "metadata": {},
   "outputs": [],
   "source": [
    "#contstruct the tensor with  sequence of candles.\n",
    "seq_columns = ['cluster']\n",
    "\n",
    "seq_tensor = torch.tensor(df[seq_columns].values).reshape(-1)\n",
    "# seq_tensor = seq_tensor[:seq_tensor.shape[0] //5*5] #cut the tail to make it dividable by 5\n",
    "\n",
    "# # add 5 min divider token to the sequence\n",
    "\n",
    "# mark_5min = torch.zeros(seq_tensor.shape[0],1, dtype=torch.int8)\n",
    "# mark_5min = seq_tensor.max() + 1\n",
    "# seq_tensor_5min = seq_tensor.view(-1,5)\n",
    "# full_seq_tensor = torch.empty(seq_tensor_5min.shape[0], seq_tensor_5min.shape[1] + 1, dtype=torch.long)\n",
    "# full_seq_tensor[:,:-1] = seq_tensor_5min\n",
    "# full_seq_tensor[:,-1] = mark_5min\n",
    "# seq_tensor = full_seq_tensor.reshape(-1)"
   ]
  },
  {
   "cell_type": "code",
   "execution_count": 13,
   "metadata": {},
   "outputs": [],
   "source": [
    "seq_tensor = seq_tensor[~torch.isnan(seq_tensor)].to(torch.int64)\n"
   ]
  },
  {
   "cell_type": "code",
   "execution_count": 14,
   "metadata": {},
   "outputs": [],
   "source": [
    "\n",
    "# save sequense tensor to hdf5\n",
    "import h5py\n",
    "with h5py.File('data/nq17-23_1min_candle_seq_manual.hdf5', 'w') as f:\n",
    "       dataset = f.create_dataset('data', shape=seq_tensor.shape, dtype='i8')\n",
    "       dataset[:] = seq_tensor[:]\n",
    "       #save index_to_candle dictionary\n",
    "       for key, value in index_to_candles.items():\n",
    "              group = f.create_group(str(key))\n",
    "              group.create_dataset('sizes', data=value['sizes'])\n",
    "              group.create_dataset('direction', data=value['direction'])\n",
    "              \n",
    "       \n",
    "\n",
    "\n",
    "\n",
    "\n"
   ]
  },
  {
   "cell_type": "code",
   "execution_count": 44,
   "metadata": {},
   "outputs": [
    {
     "data": {
      "text/plain": [
       "[<matplotlib.lines.Line2D at 0x150ca6850>]"
      ]
     },
     "execution_count": 44,
     "metadata": {},
     "output_type": "execute_result"
    },
    {
     "data": {
      "image/png": "[encoded data removed]",
      "text/plain": [
       "<Figure size 640x480 with 1 Axes>"
      ]
     },
     "metadata": {},
     "output_type": "display_data"
    }
   ],
   "source": [
    "token_weights = (torch.arange(1, 48) ** 0.7)\n",
    "# Нормализуем веса, чтобы сохранить ту же шкалу\n",
    "token_weights = token_weights / token_weights.sum() * 47\n",
    "\n",
    "plt.plot(token_weights)"
   ]
  },
  {
   "cell_type": "code",
   "execution_count": 45,
   "metadata": {},
   "outputs": [
    {
     "data": {
      "text/plain": [
       "tensor([0.1128, 0.1833, 0.2434, 0.2977, 0.3480, 0.3954, 0.4405, 0.4836, 0.5252,\n",
       "        0.5654, 0.6044, 0.6423, 0.6793, 0.7155, 0.7509, 0.7856, 0.8197, 0.8531,\n",
       "        0.8860, 0.9184, 0.9503, 0.9818, 1.0128, 1.0435, 1.0737, 1.1036, 1.1331,\n",
       "        1.1624, 1.1913, 1.2199, 1.2482, 1.2762, 1.3040, 1.3316, 1.3589, 1.3859,\n",
       "        1.4128, 1.4394, 1.4658, 1.4920, 1.5180, 1.5438, 1.5695, 1.5949, 1.6202,\n",
       "        1.6454, 1.6703])"
      ]
     },
     "execution_count": 45,
     "metadata": {},
     "output_type": "execute_result"
    }
   ],
   "source": [
    "token_weights"
   ]
  }
 ],
 "metadata": {
  "kernelspec": {
   "display_name": "Python 3",
   "language": "python",
   "name": "python3"
  },
  "language_info": {
   "codemirror_mode": {
    "name": "ipython",
    "version": 3
   },
   "file_extension": ".py",
   "mimetype": "text/x-python",
   "name": "python",
   "nbconvert_exporter": "python",
   "pygments_lexer": "ipython3",
   "version": "3.11.7"
  }
 },
 "nbformat": 4,
 "nbformat_minor": 2
}
